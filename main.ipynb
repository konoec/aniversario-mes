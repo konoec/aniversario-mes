{
 "cells": [
  {
   "cell_type": "code",
   "execution_count": 2,
   "metadata": {
    "colab": {
     "base_uri": "https://localhost:8080/"
    },
    "id": "HDBBT-W9pmaT",
    "outputId": "9f2d7d6a-82b5-408e-e18d-d044fba6420d"
   },
   "outputs": [],
   "source": [
    "# !pip install regex, demoji, plotly, wordcloud"
   ]
  },
  {
   "cell_type": "code",
   "execution_count": 6,
   "metadata": {
    "id": "h8NVI51Wqwrh"
   },
   "outputs": [],
   "source": [
    "import pandas as pd\n",
    "import re\n",
    "\n",
    "import regex\n",
    "import demoji\n",
    "\n",
    "import numpy as np\n",
    "from collections import Counter\n",
    "\n",
    "import plotly.express as px\n",
    "import matplotlib.pyplot as plt\n",
    "from PIL import Image\n",
    "from wordcloud import WordCloud, STOPWORDS\n",
    "\n",
    "import streamlit as st"
   ]
  },
  {
   "cell_type": "markdown",
   "metadata": {
    "id": "ltYtUitmPrdD"
   },
   "source": [
    "### Paso 1: Definir funciones necesarias"
   ]
  },
  {
   "cell_type": "code",
   "execution_count": 7,
   "metadata": {
    "id": "-W4h4YmcyhIy"
   },
   "outputs": [],
   "source": [
    "# Funciones auxiliares\n",
    "def IniciaConFechaYHora(s):\n",
    "    patron = r'^\\d{1,2}/\\d{1,2}/\\d{2,4}\\s\\d{1,2}:\\d{2}.*\\s-\\s'\n",
    "    return re.match(patron, s) is not None\n",
    "\n",
    "def ObtenerPartes(linea):\n",
    "    partes = linea.split(' - ', 1)\n",
    "    fecha_hora = partes[0].strip()  # Ej: '23/07/25 12:35 a. m.'\n",
    "    resto = partes[1] if len(partes) > 1 else ''\n",
    "    # Limpiar el AM/PM raro (reemplazar espacio unicode por espacio normal)\n",
    "    fecha_hora = fecha_hora.replace('\\u202f', ' ').replace(' ', ' ')  # Algunos dispositivos usan variantes\n",
    "    if ': ' in resto:\n",
    "        Miembro, Mensaje = resto.split(': ', 1)\n",
    "    else:\n",
    "        Miembro, Mensaje = None, resto\n",
    "    return fecha_hora, Miembro, Mensaje"
   ]
  },
  {
   "cell_type": "markdown",
   "metadata": {
    "id": "my-NE9PBQFzD"
   },
   "source": [
    "### Paso 2: Obtener el dataframe usando el archivo txt y las funciones definidas"
   ]
  },
  {
   "cell_type": "code",
   "execution_count": 9,
   "metadata": {
    "colab": {
     "base_uri": "https://localhost:8080/",
     "height": 423
    },
    "id": "JJ14iuRcrlyc",
    "outputId": "ba9a516c-ea03-49cd-bcb1-14efd9760e11",
    "scrolled": false
   },
   "outputs": [
    {
     "name": "stderr",
     "output_type": "stream",
     "text": [
      "C:\\Users\\ikkiel\\AppData\\Local\\Temp\\ipykernel_7988\\817040096.py:23: UserWarning: Could not infer format, so each element will be parsed individually, falling back to `dateutil`. To ensure parsing is consistent and as-expected, please specify a format.\n",
      "  df['FechaHora'] = pd.to_datetime(df['FechaHora'], dayfirst=True, errors='coerce')\n"
     ]
    },
    {
     "data": {
      "application/vnd.microsoft.datawrangler.viewer.v0+json": {
       "columns": [
        {
         "name": "index",
         "rawType": "int64",
         "type": "integer"
        },
        {
         "name": "FechaHora",
         "rawType": "datetime64[ns]",
         "type": "datetime"
        },
        {
         "name": "Miembro",
         "rawType": "object",
         "type": "string"
        },
        {
         "name": "Mensaje",
         "rawType": "object",
         "type": "string"
        },
        {
         "name": "Fecha",
         "rawType": "object",
         "type": "unknown"
        },
        {
         "name": "Hora",
         "rawType": "object",
         "type": "unknown"
        }
       ],
       "ref": "78f5c89f-588a-494d-a4bb-66e39e5ed3e3",
       "rows": [
        [
         "0",
         "2025-06-04 21:14:00",
         "Paola Rousse ❤️",
         "Ya volvi",
         "2025-06-04",
         "21:14:00"
        ],
        [
         "1",
         "2025-06-04 21:14:00",
         "Paola Rousse ❤️",
         "Ya shegue",
         "2025-06-04",
         "21:14:00"
        ],
        [
         "2",
         "2025-06-04 21:14:00",
         "Paola Rousse ❤️",
         "JAJA POBRECITO",
         "2025-06-04",
         "21:14:00"
        ],
        [
         "3",
         "2025-06-04 21:14:00",
         "Paola Rousse ❤️",
         "Cual t comprastee",
         "2025-06-04",
         "21:14:00"
        ],
        [
         "4",
         "2025-06-04 21:14:00",
         "Gabriel Paiva",
         "JAJAJAJA hooola",
         "2025-06-04",
         "21:14:00"
        ],
        [
         "5",
         "2025-06-04 21:14:00",
         "Gabriel Paiva",
         "Que tal te fue",
         "2025-06-04",
         "21:14:00"
        ],
        [
         "6",
         "2025-06-04 21:15:00",
         "Gabriel Paiva",
         "No tengo stikers",
         "2025-06-04",
         "21:15:00"
        ],
        [
         "7",
         "2025-06-04 21:15:00",
         "Gabriel Paiva",
         "<Multimedia omitido>",
         "2025-06-04",
         "21:15:00"
        ],
        [
         "8",
         "2025-06-04 21:15:00",
         "Gabriel Paiva",
         "Dicen los de la línea que te debo llamar mañana",
         "2025-06-04",
         "21:15:00"
        ],
        [
         "9",
         "2025-06-04 21:15:00",
         "Gabriel Paiva",
         "😜",
         "2025-06-04",
         "21:15:00"
        ],
        [
         "10",
         "2025-06-04 21:15:00",
         "Gabriel Paiva",
         "Ya se me quitó el sueño",
         "2025-06-04",
         "21:15:00"
        ],
        [
         "11",
         "2025-06-04 21:15:00",
         "Gabriel Paiva",
         "Listo para madrugar",
         "2025-06-04",
         "21:15:00"
        ],
        [
         "12",
         "2025-06-04 21:15:00",
         "Paola Rousse ❤️",
         "Pos ahí bien",
         "2025-06-04",
         "21:15:00"
        ],
        [
         "13",
         "2025-06-04 21:15:00",
         "Paola Rousse ❤️",
         "A ti?",
         "2025-06-04",
         "21:15:00"
        ],
        [
         "14",
         "2025-06-04 21:15:00",
         "Gabriel Paiva",
         "Honor",
         "2025-06-04",
         "21:15:00"
        ],
        [
         "15",
         "2025-06-04 21:15:00",
         "Paola Rousse ❤️",
         "JAJAJ D LA ND",
         "2025-06-04",
         "21:15:00"
        ],
        [
         "16",
         "2025-06-04 21:15:00",
         "Gabriel Paiva",
         "X5b creo",
         "2025-06-04",
         "21:15:00"
        ],
        [
         "17",
         "2025-06-04 21:15:00",
         "Paola Rousse ❤️",
         "Matate d vrd",
         "2025-06-04",
         "21:15:00"
        ],
        [
         "18",
         "2025-06-04 21:15:00",
         "Paola Rousse ❤️",
         "Es bueno",
         "2025-06-04",
         "21:15:00"
        ],
        [
         "19",
         "2025-06-04 21:16:00",
         "Paola Rousse ❤️",
         "<Multimedia omitido>",
         "2025-06-04",
         "21:16:00"
        ],
        [
         "20",
         "2025-06-04 21:16:00",
         "Gabriel Paiva",
         "Y eso? Jsjs no suena tan convencida",
         "2025-06-04",
         "21:16:00"
        ],
        [
         "21",
         "2025-06-04 21:16:00",
         "Gabriel Paiva",
         "Cansadooo",
         "2025-06-04",
         "21:16:00"
        ],
        [
         "22",
         "2025-06-04 21:16:00",
         "Gabriel Paiva",
         "Pero aquí toy",
         "2025-06-04",
         "21:16:00"
        ],
        [
         "23",
         "2025-06-04 21:17:00",
         "Gabriel Paiva",
         "<Multimedia omitido>",
         "2025-06-04",
         "21:17:00"
        ],
        [
         "24",
         "2025-06-04 21:17:00",
         "Paola Rousse ❤️",
         "Tngo hmbre",
         "2025-06-04",
         "21:17:00"
        ],
        [
         "25",
         "2025-06-04 21:17:00",
         "Paola Rousse ❤️",
         "JAJA",
         "2025-06-04",
         "21:17:00"
        ],
        [
         "26",
         "2025-06-04 21:17:00",
         "Paola Rousse ❤️",
         "Pobre",
         "2025-06-04",
         "21:17:00"
        ],
        [
         "27",
         "2025-06-04 21:17:00",
         "Gabriel Paiva",
         "Voy",
         "2025-06-04",
         "21:17:00"
        ],
        [
         "28",
         "2025-06-04 21:17:00",
         "Paola Rousse ❤️",
         "Como t fue en taller hot",
         "2025-06-04",
         "21:17:00"
        ],
        [
         "29",
         "2025-06-04 21:17:00",
         "Paola Rousse ❤️",
         "Buena danza",
         "2025-06-04",
         "21:17:00"
        ],
        [
         "30",
         "2025-06-04 21:17:00",
         "Paola Rousse ❤️",
         "JAJA",
         "2025-06-04",
         "21:17:00"
        ],
        [
         "31",
         "2025-06-04 21:17:00",
         "Paola Rousse ❤️",
         "T paso stiker?",
         "2025-06-04",
         "21:17:00"
        ],
        [
         "32",
         "2025-06-04 21:17:00",
         "Gabriel Paiva",
         "Supongo, la primera vez que pruebo un honor",
         "2025-06-04",
         "21:17:00"
        ],
        [
         "33",
         "2025-06-04 21:18:00",
         "Gabriel Paiva",
         "JAJAJAJA hay cena?",
         "2025-06-04",
         "21:18:00"
        ],
        [
         "34",
         "2025-06-04 21:18:00",
         "Gabriel Paiva",
         "Si pues",
         "2025-06-04",
         "21:18:00"
        ],
        [
         "35",
         "2025-06-04 21:18:00",
         "Gabriel Paiva",
         "Me quedé con mis pasajes nomás JAJAJAJA",
         "2025-06-04",
         "21:18:00"
        ],
        [
         "36",
         "2025-06-04 21:18:00",
         "Paola Rousse ❤️",
         "JAJAJA",
         "2025-06-04",
         "21:18:00"
        ],
        [
         "37",
         "2025-06-04 21:18:00",
         "Gabriel Paiva",
         "😀",
         "2025-06-04",
         "21:18:00"
        ],
        [
         "38",
         "2025-06-04 21:18:00",
         "Paola Rousse ❤️",
         "Muy bn",
         "2025-06-04",
         "21:18:00"
        ],
        [
         "39",
         "2025-06-04 21:18:00",
         "Paola Rousse ❤️",
         "Spongo",
         "2025-06-04",
         "21:18:00"
        ],
        [
         "40",
         "2025-06-04 21:18:00",
         "Paola Rousse ❤️",
         "JAJA",
         "2025-06-04",
         "21:18:00"
        ],
        [
         "41",
         "2025-06-04 21:18:00",
         "Paola Rousse ❤️",
         "Pobrecito",
         "2025-06-04",
         "21:18:00"
        ],
        [
         "42",
         "2025-06-04 21:18:00",
         "Gabriel Paiva",
         "JAJAJAJA nos tocó Sara kutipay",
         "2025-06-04",
         "21:18:00"
        ],
        [
         "43",
         "2025-06-04 21:18:00",
         "Gabriel Paiva",
         "Ahí ando de profe",
         "2025-06-04",
         "21:18:00"
        ],
        [
         "44",
         "2025-06-04 21:18:00",
         "Gabriel Paiva",
         "Siii",
         "2025-06-04",
         "21:18:00"
        ],
        [
         "45",
         "2025-06-04 21:19:00",
         "Paola Rousse ❤️",
         "Si se",
         "2025-06-04",
         "21:19:00"
        ],
        [
         "46",
         "2025-06-04 21:19:00",
         "Paola Rousse ❤️",
         "<Multimedia omitido>",
         "2025-06-04",
         "21:19:00"
        ],
        [
         "47",
         "2025-06-04 21:19:00",
         "Gabriel Paiva",
         "Yo opino que probamos el audio",
         "2025-06-04",
         "21:19:00"
        ],
        [
         "48",
         "2025-06-04 21:19:00",
         "Paola Rousse ❤️",
         "Quedan dos nama no?",
         "2025-06-04",
         "21:19:00"
        ],
        [
         "49",
         "2025-06-04 21:19:00",
         "Paola Rousse ❤️",
         "Voy",
         "2025-06-04",
         "21:19:00"
        ]
       ],
       "shape": {
        "columns": 5,
        "rows": 50626
       }
      },
      "text/html": [
       "<div>\n",
       "<style scoped>\n",
       "    .dataframe tbody tr th:only-of-type {\n",
       "        vertical-align: middle;\n",
       "    }\n",
       "\n",
       "    .dataframe tbody tr th {\n",
       "        vertical-align: top;\n",
       "    }\n",
       "\n",
       "    .dataframe thead th {\n",
       "        text-align: right;\n",
       "    }\n",
       "</style>\n",
       "<table border=\"1\" class=\"dataframe\">\n",
       "  <thead>\n",
       "    <tr style=\"text-align: right;\">\n",
       "      <th></th>\n",
       "      <th>FechaHora</th>\n",
       "      <th>Miembro</th>\n",
       "      <th>Mensaje</th>\n",
       "      <th>Fecha</th>\n",
       "      <th>Hora</th>\n",
       "    </tr>\n",
       "  </thead>\n",
       "  <tbody>\n",
       "    <tr>\n",
       "      <th>0</th>\n",
       "      <td>2025-06-04 21:14:00</td>\n",
       "      <td>Paola Rousse ❤️</td>\n",
       "      <td>Ya volvi</td>\n",
       "      <td>2025-06-04</td>\n",
       "      <td>21:14:00</td>\n",
       "    </tr>\n",
       "    <tr>\n",
       "      <th>1</th>\n",
       "      <td>2025-06-04 21:14:00</td>\n",
       "      <td>Paola Rousse ❤️</td>\n",
       "      <td>Ya shegue</td>\n",
       "      <td>2025-06-04</td>\n",
       "      <td>21:14:00</td>\n",
       "    </tr>\n",
       "    <tr>\n",
       "      <th>2</th>\n",
       "      <td>2025-06-04 21:14:00</td>\n",
       "      <td>Paola Rousse ❤️</td>\n",
       "      <td>JAJA POBRECITO</td>\n",
       "      <td>2025-06-04</td>\n",
       "      <td>21:14:00</td>\n",
       "    </tr>\n",
       "    <tr>\n",
       "      <th>3</th>\n",
       "      <td>2025-06-04 21:14:00</td>\n",
       "      <td>Paola Rousse ❤️</td>\n",
       "      <td>Cual t comprastee</td>\n",
       "      <td>2025-06-04</td>\n",
       "      <td>21:14:00</td>\n",
       "    </tr>\n",
       "    <tr>\n",
       "      <th>4</th>\n",
       "      <td>2025-06-04 21:14:00</td>\n",
       "      <td>Gabriel Paiva</td>\n",
       "      <td>JAJAJAJA hooola</td>\n",
       "      <td>2025-06-04</td>\n",
       "      <td>21:14:00</td>\n",
       "    </tr>\n",
       "    <tr>\n",
       "      <th>...</th>\n",
       "      <td>...</td>\n",
       "      <td>...</td>\n",
       "      <td>...</td>\n",
       "      <td>...</td>\n",
       "      <td>...</td>\n",
       "    </tr>\n",
       "    <tr>\n",
       "      <th>50621</th>\n",
       "      <td>2025-07-23 09:03:00</td>\n",
       "      <td>Gabriel Paiva</td>\n",
       "      <td>Pipipi</td>\n",
       "      <td>2025-07-23</td>\n",
       "      <td>09:03:00</td>\n",
       "    </tr>\n",
       "    <tr>\n",
       "      <th>50622</th>\n",
       "      <td>2025-07-23 09:04:00</td>\n",
       "      <td>Gabriel Paiva</td>\n",
       "      <td>Como tash</td>\n",
       "      <td>2025-07-23</td>\n",
       "      <td>09:04:00</td>\n",
       "    </tr>\n",
       "    <tr>\n",
       "      <th>50623</th>\n",
       "      <td>2025-07-23 09:04:00</td>\n",
       "      <td>Gabriel Paiva</td>\n",
       "      <td>Ya ta bien mi vida??</td>\n",
       "      <td>2025-07-23</td>\n",
       "      <td>09:04:00</td>\n",
       "    </tr>\n",
       "    <tr>\n",
       "      <th>50624</th>\n",
       "      <td>2025-07-23 09:04:00</td>\n",
       "      <td>Gabriel Paiva</td>\n",
       "      <td>Buenos días</td>\n",
       "      <td>2025-07-23</td>\n",
       "      <td>09:04:00</td>\n",
       "    </tr>\n",
       "    <tr>\n",
       "      <th>50625</th>\n",
       "      <td>2025-07-23 09:05:00</td>\n",
       "      <td>Gabriel Paiva</td>\n",
       "      <td>Mi noviecitaaaaa porseacaso chao</td>\n",
       "      <td>2025-07-23</td>\n",
       "      <td>09:05:00</td>\n",
       "    </tr>\n",
       "  </tbody>\n",
       "</table>\n",
       "<p>50626 rows × 5 columns</p>\n",
       "</div>"
      ],
      "text/plain": [
       "                FechaHora          Miembro                           Mensaje  \\\n",
       "0     2025-06-04 21:14:00  Paola Rousse ❤️                          Ya volvi   \n",
       "1     2025-06-04 21:14:00  Paola Rousse ❤️                         Ya shegue   \n",
       "2     2025-06-04 21:14:00  Paola Rousse ❤️                    JAJA POBRECITO   \n",
       "3     2025-06-04 21:14:00  Paola Rousse ❤️                 Cual t comprastee   \n",
       "4     2025-06-04 21:14:00    Gabriel Paiva                   JAJAJAJA hooola   \n",
       "...                   ...              ...                               ...   \n",
       "50621 2025-07-23 09:03:00    Gabriel Paiva                            Pipipi   \n",
       "50622 2025-07-23 09:04:00    Gabriel Paiva                         Como tash   \n",
       "50623 2025-07-23 09:04:00    Gabriel Paiva              Ya ta bien mi vida??   \n",
       "50624 2025-07-23 09:04:00    Gabriel Paiva                       Buenos días   \n",
       "50625 2025-07-23 09:05:00    Gabriel Paiva  Mi noviecitaaaaa porseacaso chao   \n",
       "\n",
       "            Fecha      Hora  \n",
       "0      2025-06-04  21:14:00  \n",
       "1      2025-06-04  21:14:00  \n",
       "2      2025-06-04  21:14:00  \n",
       "3      2025-06-04  21:14:00  \n",
       "4      2025-06-04  21:14:00  \n",
       "...           ...       ...  \n",
       "50621  2025-07-23  09:03:00  \n",
       "50622  2025-07-23  09:04:00  \n",
       "50623  2025-07-23  09:04:00  \n",
       "50624  2025-07-23  09:04:00  \n",
       "50625  2025-07-23  09:05:00  \n",
       "\n",
       "[50626 rows x 5 columns]"
      ]
     },
     "execution_count": 9,
     "metadata": {},
     "output_type": "execute_result"
    }
   ],
   "source": [
    "RutaChat = 'Data/Chat de WhatsApp con Paola Rousse ❤️.txt'\n",
    "with open(RutaChat, encoding=\"utf-8\") as fp:\n",
    "    lineas = fp.readlines()\n",
    "\n",
    "# Procesar líneas\n",
    "DatosLista = []\n",
    "FechaHora, Miembro, Mensaje = None, None, \"\"\n",
    "for linea in lineas:\n",
    "    linea = linea.strip()\n",
    "    if IniciaConFechaYHora(linea):\n",
    "        if Mensaje and Miembro:\n",
    "            DatosLista.append([FechaHora, Miembro, Mensaje])\n",
    "        FechaHora, Miembro, Mensaje = ObtenerPartes(linea)\n",
    "    else:\n",
    "        Mensaje += \" \" + linea\n",
    "if Mensaje and Miembro:\n",
    "    DatosLista.append([FechaHora, Miembro, Mensaje])\n",
    "\n",
    "# Crear DataFrame\n",
    "df = pd.DataFrame(DatosLista, columns=['FechaHora', 'Miembro', 'Mensaje'])\n",
    "\n",
    "# Convertir columna FechaHora a datetime (flexible, sin formato fijo)\n",
    "df['FechaHora'] = pd.to_datetime(df['FechaHora'], dayfirst=True, errors='coerce')\n",
    "\n",
    "# Eliminar errores de parseo\n",
    "df = df.dropna(subset=['FechaHora', 'Miembro', 'Mensaje']).reset_index(drop=True)\n",
    "\n",
    "# Separar Fecha y Hora si quieres\n",
    "df['Fecha'] = df['FechaHora'].dt.date\n",
    "df['Hora'] = df['FechaHora'].dt.time\n",
    "df"
   ]
  },
  {
   "cell_type": "markdown",
   "metadata": {
    "id": "nHwN09vlwo4e"
   },
   "source": [
    "### Paso 3: Estadísticas de mensajes, multimedia, emojis y links"
   ]
  },
  {
   "cell_type": "markdown",
   "metadata": {
    "id": "k395vihvMcGE"
   },
   "source": [
    "#### Total de mensajes, multimedia, emojis y links enviados"
   ]
  },
  {
   "cell_type": "code",
   "execution_count": 16,
   "metadata": {
    "colab": {
     "base_uri": "https://localhost:8080/",
     "height": 206
    },
    "id": "2W3bTMofrtAz",
    "outputId": "7c25f98d-02be-494d-9c8c-9d35afe13a6f",
    "scrolled": true
   },
   "outputs": [
    {
     "data": {
      "application/vnd.microsoft.datawrangler.viewer.v0+json": {
       "columns": [
        {
         "name": "Tipo",
         "rawType": "object",
         "type": "string"
        },
        {
         "name": "Cantidad",
         "rawType": "int64",
         "type": "integer"
        }
       ],
       "ref": "37237d8a-2828-4066-8249-2cfb08e05366",
       "rows": [
        [
         "Mensajes",
         "50626"
        ],
        [
         "Multimedia",
         "7482"
        ],
        [
         "Emojis",
         "2333"
        ],
        [
         "Links",
         "26"
        ],
        [
         "Encuestas",
         "0"
        ]
       ],
       "shape": {
        "columns": 1,
        "rows": 5
       }
      },
      "text/html": [
       "<div>\n",
       "<style scoped>\n",
       "    .dataframe tbody tr th:only-of-type {\n",
       "        vertical-align: middle;\n",
       "    }\n",
       "\n",
       "    .dataframe tbody tr th {\n",
       "        vertical-align: top;\n",
       "    }\n",
       "\n",
       "    .dataframe thead th {\n",
       "        text-align: right;\n",
       "    }\n",
       "</style>\n",
       "<table border=\"1\" class=\"dataframe\">\n",
       "  <thead>\n",
       "    <tr style=\"text-align: right;\">\n",
       "      <th></th>\n",
       "      <th>Cantidad</th>\n",
       "    </tr>\n",
       "    <tr>\n",
       "      <th>Tipo</th>\n",
       "      <th></th>\n",
       "    </tr>\n",
       "  </thead>\n",
       "  <tbody>\n",
       "    <tr>\n",
       "      <th>Mensajes</th>\n",
       "      <td>50626</td>\n",
       "    </tr>\n",
       "    <tr>\n",
       "      <th>Multimedia</th>\n",
       "      <td>7482</td>\n",
       "    </tr>\n",
       "    <tr>\n",
       "      <th>Emojis</th>\n",
       "      <td>2333</td>\n",
       "    </tr>\n",
       "    <tr>\n",
       "      <th>Links</th>\n",
       "      <td>26</td>\n",
       "    </tr>\n",
       "    <tr>\n",
       "      <th>Encuestas</th>\n",
       "      <td>0</td>\n",
       "    </tr>\n",
       "  </tbody>\n",
       "</table>\n",
       "</div>"
      ],
      "text/plain": [
       "            Cantidad\n",
       "Tipo                \n",
       "Mensajes       50626\n",
       "Multimedia      7482\n",
       "Emojis          2333\n",
       "Links             26\n",
       "Encuestas          0"
      ]
     },
     "execution_count": 16,
     "metadata": {},
     "output_type": "execute_result"
    }
   ],
   "source": [
    "def ObtenerEmojis(Mensaje):\n",
    "    emoji_lista = []\n",
    "    data = regex.findall(r'\\X', Mensaje)  # Obtener lista de caracteres de cada mensaje\n",
    "    for caracter in data:\n",
    "        if demoji.replace(caracter) != caracter:\n",
    "            emoji_lista.append(caracter)\n",
    "    return emoji_lista\n",
    "\n",
    "# Obtener la cantidad total de mensajes\n",
    "total_mensajes = df.shape[0]\n",
    "\n",
    "# Obtener la cantidad de archivos multimedia enviados\n",
    "multimedia_mensajes = df[df['Mensaje'] == '<Multimedia omitido>'].shape[0]\n",
    "\n",
    "# Obtener la cantidad de emojis enviados\n",
    "df['Emojis'] = df['Mensaje'].apply(ObtenerEmojis) # Se agrega columna 'Emojis'\n",
    "emojis = sum(df['Emojis'].str.len())\n",
    "\n",
    "# Obtener la cantidad de links enviados\n",
    "url_patron = r'(https?://\\S+)'\n",
    "df['URLs'] = df.Mensaje.apply(lambda x: len(re.findall(url_patron, x))) # Se agrega columna 'URLs'\n",
    "links = sum(df['URLs'])\n",
    "\n",
    "# Obtener la cantidad de encuestas\n",
    "encuestas = df[df['Mensaje'] == 'POLL:'].shape[0]\n",
    "\n",
    "# Todos los datos pasarlo a diccionario\n",
    "estadistica_dict = {'Tipo': ['Mensajes', 'Multimedia', 'Emojis', 'Links', 'Encuestas'],\n",
    "        'Cantidad': [total_mensajes, multimedia_mensajes, emojis, links, encuestas]\n",
    "        }\n",
    "\n",
    "#Convertir diccionario a dataframe\n",
    "estadistica_df = pd.DataFrame(estadistica_dict, columns = ['Tipo', 'Cantidad'])\n",
    "\n",
    "# Establecer la columna Tipo como índice\n",
    "estadistica_df = estadistica_df.set_index('Tipo')\n",
    "estadistica_df"
   ]
  },
  {
   "cell_type": "markdown",
   "metadata": {
    "id": "qxSQjfnhMkaj"
   },
   "source": [
    "#### Emojis más usados"
   ]
  },
  {
   "cell_type": "code",
   "execution_count": 17,
   "metadata": {
    "colab": {
     "base_uri": "https://localhost:8080/",
     "height": 431
    },
    "id": "Dqmgb2I6HUg-",
    "outputId": "340c211d-3343-4cae-c031-d4f474f87056"
   },
   "outputs": [
    {
     "name": "stdout",
     "output_type": "stream",
     "text": [
      "Número emojis únicos usados:  10 \n",
      "\n"
     ]
    },
    {
     "data": {
      "application/vnd.microsoft.datawrangler.viewer.v0+json": {
       "columns": [
        {
         "name": "Emoji",
         "rawType": "object",
         "type": "string"
        },
        {
         "name": "Cantidad",
         "rawType": "int64",
         "type": "integer"
        }
       ],
       "ref": "54f90c28-c6e2-4f9d-b2f9-605b9c2c94ac",
       "rows": [
        [
         "😂",
         "316"
        ],
        [
         "😭",
         "292"
        ],
        [
         "🥰",
         "213"
        ],
        [
         "🫶🏻",
         "198"
        ],
        [
         "🥺",
         "169"
        ],
        [
         "😜",
         "138"
        ],
        [
         "💘",
         "123"
        ],
        [
         "🙄",
         "100"
        ],
        [
         "❤️",
         "91"
        ],
        [
         "😔",
         "86"
        ]
       ],
       "shape": {
        "columns": 1,
        "rows": 10
       }
      },
      "text/html": [
       "<div>\n",
       "<style scoped>\n",
       "    .dataframe tbody tr th:only-of-type {\n",
       "        vertical-align: middle;\n",
       "    }\n",
       "\n",
       "    .dataframe tbody tr th {\n",
       "        vertical-align: top;\n",
       "    }\n",
       "\n",
       "    .dataframe thead th {\n",
       "        text-align: right;\n",
       "    }\n",
       "</style>\n",
       "<table border=\"1\" class=\"dataframe\">\n",
       "  <thead>\n",
       "    <tr style=\"text-align: right;\">\n",
       "      <th></th>\n",
       "      <th>Cantidad</th>\n",
       "    </tr>\n",
       "    <tr>\n",
       "      <th>Emoji</th>\n",
       "      <th></th>\n",
       "    </tr>\n",
       "  </thead>\n",
       "  <tbody>\n",
       "    <tr>\n",
       "      <th>😂</th>\n",
       "      <td>316</td>\n",
       "    </tr>\n",
       "    <tr>\n",
       "      <th>😭</th>\n",
       "      <td>292</td>\n",
       "    </tr>\n",
       "    <tr>\n",
       "      <th>🥰</th>\n",
       "      <td>213</td>\n",
       "    </tr>\n",
       "    <tr>\n",
       "      <th>🫶🏻</th>\n",
       "      <td>198</td>\n",
       "    </tr>\n",
       "    <tr>\n",
       "      <th>🥺</th>\n",
       "      <td>169</td>\n",
       "    </tr>\n",
       "    <tr>\n",
       "      <th>😜</th>\n",
       "      <td>138</td>\n",
       "    </tr>\n",
       "    <tr>\n",
       "      <th>💘</th>\n",
       "      <td>123</td>\n",
       "    </tr>\n",
       "    <tr>\n",
       "      <th>🙄</th>\n",
       "      <td>100</td>\n",
       "    </tr>\n",
       "    <tr>\n",
       "      <th>❤️</th>\n",
       "      <td>91</td>\n",
       "    </tr>\n",
       "    <tr>\n",
       "      <th>😔</th>\n",
       "      <td>86</td>\n",
       "    </tr>\n",
       "  </tbody>\n",
       "</table>\n",
       "</div>"
      ],
      "text/plain": [
       "       Cantidad\n",
       "Emoji          \n",
       "😂           316\n",
       "😭           292\n",
       "🥰           213\n",
       "🫶🏻          198\n",
       "🥺           169\n",
       "😜           138\n",
       "💘           123\n",
       "🙄           100\n",
       "❤️           91\n",
       "😔            86"
      ]
     },
     "execution_count": 17,
     "metadata": {},
     "output_type": "execute_result"
    }
   ],
   "source": [
    "# Obtener emojis más usados y las cantidades en el chat del grupo del dataframe\n",
    "emojis_lista = list([a for b in df.Emojis for a in b])\n",
    "emoji_diccionario = dict(Counter(emojis_lista))\n",
    "emoji_diccionario = sorted(emoji_diccionario.items(), key=lambda x: x[1], reverse=True)\n",
    "\n",
    "# Convertir el diccionario a dataframe\n",
    "emoji_df = pd.DataFrame(emoji_diccionario, columns=['Emoji', 'Cantidad'])\n",
    "\n",
    "# Establecer la columna Emoji como índice\n",
    "emoji_df = emoji_df.set_index('Emoji').head(10)\n",
    "\n",
    "print('Número emojis únicos usados: ', len(emoji_df), '\\n')\n",
    "emoji_df"
   ]
  },
  {
   "cell_type": "code",
   "execution_count": 19,
   "metadata": {
    "colab": {
     "base_uri": "https://localhost:8080/",
     "height": 542
    },
    "id": "gUuZ7WIRGgVI",
    "outputId": "8c324573-9baf-4fb4-d712-4abcdeca8ce5"
   },
   "outputs": [
    {
     "data": {
      "application/vnd.plotly.v1+json": {
       "config": {
        "plotlyServerURL": "https://plot.ly"
       },
       "data": [
        {
         "domain": {
          "x": [
           0,
           1
          ],
          "y": [
           0,
           1
          ]
         },
         "hole": 0.3,
         "hovertemplate": "Emoji=%{label}<br>Cantidad=%{value}<extra></extra>",
         "labels": [
          "😂",
          "😭",
          "🥰",
          "🫶🏻",
          "🥺",
          "😜",
          "💘",
          "🙄",
          "❤️",
          "😔"
         ],
         "legendgroup": "",
         "name": "",
         "showlegend": true,
         "textfont": {
          "size": 20
         },
         "textinfo": "percent+label",
         "textposition": "inside",
         "type": "pie",
         "values": {
          "bdata": "PAEkAdUAxgCpAIoAewBkAFsAVgA=",
          "dtype": "i2"
         }
        }
       ],
       "layout": {
        "font": {
         "size": 17
        },
        "legend": {
         "tracegroupgap": 0
        },
        "margin": {
         "t": 60
        },
        "piecolorway": [
         "rgb(179,226,205)",
         "rgb(253,205,172)",
         "rgb(203,213,232)",
         "rgb(244,202,228)",
         "rgb(230,245,201)",
         "rgb(255,242,174)",
         "rgb(241,226,204)",
         "rgb(204,204,204)"
        ],
        "template": {
         "data": {
          "bar": [
           {
            "error_x": {
             "color": "#f2f5fa"
            },
            "error_y": {
             "color": "#f2f5fa"
            },
            "marker": {
             "line": {
              "color": "rgb(17,17,17)",
              "width": 0.5
             },
             "pattern": {
              "fillmode": "overlay",
              "size": 10,
              "solidity": 0.2
             }
            },
            "type": "bar"
           }
          ],
          "barpolar": [
           {
            "marker": {
             "line": {
              "color": "rgb(17,17,17)",
              "width": 0.5
             },
             "pattern": {
              "fillmode": "overlay",
              "size": 10,
              "solidity": 0.2
             }
            },
            "type": "barpolar"
           }
          ],
          "carpet": [
           {
            "aaxis": {
             "endlinecolor": "#A2B1C6",
             "gridcolor": "#506784",
             "linecolor": "#506784",
             "minorgridcolor": "#506784",
             "startlinecolor": "#A2B1C6"
            },
            "baxis": {
             "endlinecolor": "#A2B1C6",
             "gridcolor": "#506784",
             "linecolor": "#506784",
             "minorgridcolor": "#506784",
             "startlinecolor": "#A2B1C6"
            },
            "type": "carpet"
           }
          ],
          "choropleth": [
           {
            "colorbar": {
             "outlinewidth": 0,
             "ticks": ""
            },
            "type": "choropleth"
           }
          ],
          "contour": [
           {
            "colorbar": {
             "outlinewidth": 0,
             "ticks": ""
            },
            "colorscale": [
             [
              0,
              "#0d0887"
             ],
             [
              0.1111111111111111,
              "#46039f"
             ],
             [
              0.2222222222222222,
              "#7201a8"
             ],
             [
              0.3333333333333333,
              "#9c179e"
             ],
             [
              0.4444444444444444,
              "#bd3786"
             ],
             [
              0.5555555555555556,
              "#d8576b"
             ],
             [
              0.6666666666666666,
              "#ed7953"
             ],
             [
              0.7777777777777778,
              "#fb9f3a"
             ],
             [
              0.8888888888888888,
              "#fdca26"
             ],
             [
              1,
              "#f0f921"
             ]
            ],
            "type": "contour"
           }
          ],
          "contourcarpet": [
           {
            "colorbar": {
             "outlinewidth": 0,
             "ticks": ""
            },
            "type": "contourcarpet"
           }
          ],
          "heatmap": [
           {
            "colorbar": {
             "outlinewidth": 0,
             "ticks": ""
            },
            "colorscale": [
             [
              0,
              "#0d0887"
             ],
             [
              0.1111111111111111,
              "#46039f"
             ],
             [
              0.2222222222222222,
              "#7201a8"
             ],
             [
              0.3333333333333333,
              "#9c179e"
             ],
             [
              0.4444444444444444,
              "#bd3786"
             ],
             [
              0.5555555555555556,
              "#d8576b"
             ],
             [
              0.6666666666666666,
              "#ed7953"
             ],
             [
              0.7777777777777778,
              "#fb9f3a"
             ],
             [
              0.8888888888888888,
              "#fdca26"
             ],
             [
              1,
              "#f0f921"
             ]
            ],
            "type": "heatmap"
           }
          ],
          "histogram": [
           {
            "marker": {
             "pattern": {
              "fillmode": "overlay",
              "size": 10,
              "solidity": 0.2
             }
            },
            "type": "histogram"
           }
          ],
          "histogram2d": [
           {
            "colorbar": {
             "outlinewidth": 0,
             "ticks": ""
            },
            "colorscale": [
             [
              0,
              "#0d0887"
             ],
             [
              0.1111111111111111,
              "#46039f"
             ],
             [
              0.2222222222222222,
              "#7201a8"
             ],
             [
              0.3333333333333333,
              "#9c179e"
             ],
             [
              0.4444444444444444,
              "#bd3786"
             ],
             [
              0.5555555555555556,
              "#d8576b"
             ],
             [
              0.6666666666666666,
              "#ed7953"
             ],
             [
              0.7777777777777778,
              "#fb9f3a"
             ],
             [
              0.8888888888888888,
              "#fdca26"
             ],
             [
              1,
              "#f0f921"
             ]
            ],
            "type": "histogram2d"
           }
          ],
          "histogram2dcontour": [
           {
            "colorbar": {
             "outlinewidth": 0,
             "ticks": ""
            },
            "colorscale": [
             [
              0,
              "#0d0887"
             ],
             [
              0.1111111111111111,
              "#46039f"
             ],
             [
              0.2222222222222222,
              "#7201a8"
             ],
             [
              0.3333333333333333,
              "#9c179e"
             ],
             [
              0.4444444444444444,
              "#bd3786"
             ],
             [
              0.5555555555555556,
              "#d8576b"
             ],
             [
              0.6666666666666666,
              "#ed7953"
             ],
             [
              0.7777777777777778,
              "#fb9f3a"
             ],
             [
              0.8888888888888888,
              "#fdca26"
             ],
             [
              1,
              "#f0f921"
             ]
            ],
            "type": "histogram2dcontour"
           }
          ],
          "mesh3d": [
           {
            "colorbar": {
             "outlinewidth": 0,
             "ticks": ""
            },
            "type": "mesh3d"
           }
          ],
          "parcoords": [
           {
            "line": {
             "colorbar": {
              "outlinewidth": 0,
              "ticks": ""
             }
            },
            "type": "parcoords"
           }
          ],
          "pie": [
           {
            "automargin": true,
            "type": "pie"
           }
          ],
          "scatter": [
           {
            "marker": {
             "line": {
              "color": "#283442"
             }
            },
            "type": "scatter"
           }
          ],
          "scatter3d": [
           {
            "line": {
             "colorbar": {
              "outlinewidth": 0,
              "ticks": ""
             }
            },
            "marker": {
             "colorbar": {
              "outlinewidth": 0,
              "ticks": ""
             }
            },
            "type": "scatter3d"
           }
          ],
          "scattercarpet": [
           {
            "marker": {
             "colorbar": {
              "outlinewidth": 0,
              "ticks": ""
             }
            },
            "type": "scattercarpet"
           }
          ],
          "scattergeo": [
           {
            "marker": {
             "colorbar": {
              "outlinewidth": 0,
              "ticks": ""
             }
            },
            "type": "scattergeo"
           }
          ],
          "scattergl": [
           {
            "marker": {
             "line": {
              "color": "#283442"
             }
            },
            "type": "scattergl"
           }
          ],
          "scattermap": [
           {
            "marker": {
             "colorbar": {
              "outlinewidth": 0,
              "ticks": ""
             }
            },
            "type": "scattermap"
           }
          ],
          "scattermapbox": [
           {
            "marker": {
             "colorbar": {
              "outlinewidth": 0,
              "ticks": ""
             }
            },
            "type": "scattermapbox"
           }
          ],
          "scatterpolar": [
           {
            "marker": {
             "colorbar": {
              "outlinewidth": 0,
              "ticks": ""
             }
            },
            "type": "scatterpolar"
           }
          ],
          "scatterpolargl": [
           {
            "marker": {
             "colorbar": {
              "outlinewidth": 0,
              "ticks": ""
             }
            },
            "type": "scatterpolargl"
           }
          ],
          "scatterternary": [
           {
            "marker": {
             "colorbar": {
              "outlinewidth": 0,
              "ticks": ""
             }
            },
            "type": "scatterternary"
           }
          ],
          "surface": [
           {
            "colorbar": {
             "outlinewidth": 0,
             "ticks": ""
            },
            "colorscale": [
             [
              0,
              "#0d0887"
             ],
             [
              0.1111111111111111,
              "#46039f"
             ],
             [
              0.2222222222222222,
              "#7201a8"
             ],
             [
              0.3333333333333333,
              "#9c179e"
             ],
             [
              0.4444444444444444,
              "#bd3786"
             ],
             [
              0.5555555555555556,
              "#d8576b"
             ],
             [
              0.6666666666666666,
              "#ed7953"
             ],
             [
              0.7777777777777778,
              "#fb9f3a"
             ],
             [
              0.8888888888888888,
              "#fdca26"
             ],
             [
              1,
              "#f0f921"
             ]
            ],
            "type": "surface"
           }
          ],
          "table": [
           {
            "cells": {
             "fill": {
              "color": "#506784"
             },
             "line": {
              "color": "rgb(17,17,17)"
             }
            },
            "header": {
             "fill": {
              "color": "#2a3f5f"
             },
             "line": {
              "color": "rgb(17,17,17)"
             }
            },
            "type": "table"
           }
          ]
         },
         "layout": {
          "annotationdefaults": {
           "arrowcolor": "#f2f5fa",
           "arrowhead": 0,
           "arrowwidth": 1
          },
          "autotypenumbers": "strict",
          "coloraxis": {
           "colorbar": {
            "outlinewidth": 0,
            "ticks": ""
           }
          },
          "colorscale": {
           "diverging": [
            [
             0,
             "#8e0152"
            ],
            [
             0.1,
             "#c51b7d"
            ],
            [
             0.2,
             "#de77ae"
            ],
            [
             0.3,
             "#f1b6da"
            ],
            [
             0.4,
             "#fde0ef"
            ],
            [
             0.5,
             "#f7f7f7"
            ],
            [
             0.6,
             "#e6f5d0"
            ],
            [
             0.7,
             "#b8e186"
            ],
            [
             0.8,
             "#7fbc41"
            ],
            [
             0.9,
             "#4d9221"
            ],
            [
             1,
             "#276419"
            ]
           ],
           "sequential": [
            [
             0,
             "#0d0887"
            ],
            [
             0.1111111111111111,
             "#46039f"
            ],
            [
             0.2222222222222222,
             "#7201a8"
            ],
            [
             0.3333333333333333,
             "#9c179e"
            ],
            [
             0.4444444444444444,
             "#bd3786"
            ],
            [
             0.5555555555555556,
             "#d8576b"
            ],
            [
             0.6666666666666666,
             "#ed7953"
            ],
            [
             0.7777777777777778,
             "#fb9f3a"
            ],
            [
             0.8888888888888888,
             "#fdca26"
            ],
            [
             1,
             "#f0f921"
            ]
           ],
           "sequentialminus": [
            [
             0,
             "#0d0887"
            ],
            [
             0.1111111111111111,
             "#46039f"
            ],
            [
             0.2222222222222222,
             "#7201a8"
            ],
            [
             0.3333333333333333,
             "#9c179e"
            ],
            [
             0.4444444444444444,
             "#bd3786"
            ],
            [
             0.5555555555555556,
             "#d8576b"
            ],
            [
             0.6666666666666666,
             "#ed7953"
            ],
            [
             0.7777777777777778,
             "#fb9f3a"
            ],
            [
             0.8888888888888888,
             "#fdca26"
            ],
            [
             1,
             "#f0f921"
            ]
           ]
          },
          "colorway": [
           "#636efa",
           "#EF553B",
           "#00cc96",
           "#ab63fa",
           "#FFA15A",
           "#19d3f3",
           "#FF6692",
           "#B6E880",
           "#FF97FF",
           "#FECB52"
          ],
          "font": {
           "color": "#f2f5fa"
          },
          "geo": {
           "bgcolor": "rgb(17,17,17)",
           "lakecolor": "rgb(17,17,17)",
           "landcolor": "rgb(17,17,17)",
           "showlakes": true,
           "showland": true,
           "subunitcolor": "#506784"
          },
          "hoverlabel": {
           "align": "left"
          },
          "hovermode": "closest",
          "mapbox": {
           "style": "dark"
          },
          "paper_bgcolor": "rgb(17,17,17)",
          "plot_bgcolor": "rgb(17,17,17)",
          "polar": {
           "angularaxis": {
            "gridcolor": "#506784",
            "linecolor": "#506784",
            "ticks": ""
           },
           "bgcolor": "rgb(17,17,17)",
           "radialaxis": {
            "gridcolor": "#506784",
            "linecolor": "#506784",
            "ticks": ""
           }
          },
          "scene": {
           "xaxis": {
            "backgroundcolor": "rgb(17,17,17)",
            "gridcolor": "#506784",
            "gridwidth": 2,
            "linecolor": "#506784",
            "showbackground": true,
            "ticks": "",
            "zerolinecolor": "#C8D4E3"
           },
           "yaxis": {
            "backgroundcolor": "rgb(17,17,17)",
            "gridcolor": "#506784",
            "gridwidth": 2,
            "linecolor": "#506784",
            "showbackground": true,
            "ticks": "",
            "zerolinecolor": "#C8D4E3"
           },
           "zaxis": {
            "backgroundcolor": "rgb(17,17,17)",
            "gridcolor": "#506784",
            "gridwidth": 2,
            "linecolor": "#506784",
            "showbackground": true,
            "ticks": "",
            "zerolinecolor": "#C8D4E3"
           }
          },
          "shapedefaults": {
           "line": {
            "color": "#f2f5fa"
           }
          },
          "sliderdefaults": {
           "bgcolor": "#C8D4E3",
           "bordercolor": "rgb(17,17,17)",
           "borderwidth": 1,
           "tickwidth": 0
          },
          "ternary": {
           "aaxis": {
            "gridcolor": "#506784",
            "linecolor": "#506784",
            "ticks": ""
           },
           "baxis": {
            "gridcolor": "#506784",
            "linecolor": "#506784",
            "ticks": ""
           },
           "bgcolor": "rgb(17,17,17)",
           "caxis": {
            "gridcolor": "#506784",
            "linecolor": "#506784",
            "ticks": ""
           }
          },
          "title": {
           "x": 0.05
          },
          "updatemenudefaults": {
           "bgcolor": "#506784",
           "borderwidth": 0
          },
          "xaxis": {
           "automargin": true,
           "gridcolor": "#283442",
           "linecolor": "#506784",
           "ticks": "",
           "title": {
            "standoff": 15
           },
           "zerolinecolor": "#283442",
           "zerolinewidth": 2
          },
          "yaxis": {
           "automargin": true,
           "gridcolor": "#283442",
           "linecolor": "#506784",
           "ticks": "",
           "title": {
            "standoff": 15
           },
           "zerolinecolor": "#283442",
           "zerolinewidth": 2
          }
         }
        },
        "title": {
         "text": "🤗 Emojis que más usamos",
         "x": 0.5,
         "xanchor": "center",
         "y": 0.96
        }
       }
      }
     },
     "metadata": {},
     "output_type": "display_data"
    }
   ],
   "source": [
    "# Plotear el pie de los emojis más usados\n",
    "fig = px.pie(emoji_df, values='Cantidad', names=emoji_df.index, hole=.3, template='plotly_dark', color_discrete_sequence=px.colors.qualitative.Pastel2)\n",
    "fig.update_traces(textposition='inside', textinfo='percent+label', textfont_size=20)\n",
    "fig.update_layout(title={'text': '🤗 Emojis que más usamos', 'y':0.96, 'x':0.5, 'xanchor': 'center'}, font=dict(size=17))\n",
    "fig.show()"
   ]
  },
  {
   "cell_type": "markdown",
   "metadata": {
    "id": "C4FJPwZiQrbU"
   },
   "source": [
    "### Paso 4: Estadísticas de los miembros del grupo"
   ]
  },
  {
   "cell_type": "markdown",
   "metadata": {
    "id": "0FjFf3odQfrw"
   },
   "source": [
    "#### Miembros más activos"
   ]
  },
  {
   "cell_type": "code",
   "execution_count": 20,
   "metadata": {
    "colab": {
     "base_uri": "https://localhost:8080/",
     "height": 423
    },
    "id": "h5k2OxQzB3Te",
    "outputId": "1feeeb15-c669-4d5d-ca33-34c2a7844bc2",
    "scrolled": true
   },
   "outputs": [
    {
     "data": {
      "application/vnd.microsoft.datawrangler.viewer.v0+json": {
       "columns": [
        {
         "name": "index",
         "rawType": "int64",
         "type": "integer"
        },
        {
         "name": "Miembro",
         "rawType": "object",
         "type": "string"
        },
        {
         "name": "Mensaje",
         "rawType": "int64",
         "type": "integer"
        },
        {
         "name": "% Mensaje",
         "rawType": "float64",
         "type": "float"
        }
       ],
       "ref": "8a4e2af3-2961-4b53-8f79-fa1e1f43c1d3",
       "rows": [
        [
         "1",
         "Paola Rousse ❤️",
         "25382",
         "50.136293604076954"
        ],
        [
         "2",
         "Gabriel Paiva",
         "25244",
         "49.86370639592304"
        ]
       ],
       "shape": {
        "columns": 3,
        "rows": 2
       }
      },
      "text/html": [
       "<div>\n",
       "<style scoped>\n",
       "    .dataframe tbody tr th:only-of-type {\n",
       "        vertical-align: middle;\n",
       "    }\n",
       "\n",
       "    .dataframe tbody tr th {\n",
       "        vertical-align: top;\n",
       "    }\n",
       "\n",
       "    .dataframe thead th {\n",
       "        text-align: right;\n",
       "    }\n",
       "</style>\n",
       "<table border=\"1\" class=\"dataframe\">\n",
       "  <thead>\n",
       "    <tr style=\"text-align: right;\">\n",
       "      <th></th>\n",
       "      <th>Miembro</th>\n",
       "      <th>Mensaje</th>\n",
       "      <th>% Mensaje</th>\n",
       "    </tr>\n",
       "  </thead>\n",
       "  <tbody>\n",
       "    <tr>\n",
       "      <th>1</th>\n",
       "      <td>Paola Rousse ❤️</td>\n",
       "      <td>25382</td>\n",
       "      <td>50.136294</td>\n",
       "    </tr>\n",
       "    <tr>\n",
       "      <th>2</th>\n",
       "      <td>Gabriel Paiva</td>\n",
       "      <td>25244</td>\n",
       "      <td>49.863706</td>\n",
       "    </tr>\n",
       "  </tbody>\n",
       "</table>\n",
       "</div>"
      ],
      "text/plain": [
       "           Miembro  Mensaje  % Mensaje\n",
       "1  Paola Rousse ❤️    25382  50.136294\n",
       "2    Gabriel Paiva    25244  49.863706"
      ]
     },
     "execution_count": 20,
     "metadata": {},
     "output_type": "execute_result"
    }
   ],
   "source": [
    "# Determinar los miembros más activos del grupo\n",
    "df_MiembrosActivos = df.groupby('Miembro')['Mensaje'].count().sort_values(ascending=False).to_frame()\n",
    "df_MiembrosActivos.reset_index(inplace=True)\n",
    "df_MiembrosActivos.index = np.arange(1, len(df_MiembrosActivos)+1)\n",
    "df_MiembrosActivos['% Mensaje'] = (df_MiembrosActivos['Mensaje'] / df_MiembrosActivos['Mensaje'].sum()) * 100\n",
    "df_MiembrosActivos"
   ]
  },
  {
   "cell_type": "markdown",
   "metadata": {
    "id": "B7cpLqJ3P1v6"
   },
   "source": [
    "#### Estadísticas por miembro"
   ]
  },
  {
   "cell_type": "code",
   "execution_count": 21,
   "metadata": {
    "colab": {
     "base_uri": "https://localhost:8080/",
     "height": 206
    },
    "id": "181xu9goQaAr",
    "outputId": "5499f938-540b-4978-a5fb-d10a8192d5e6"
   },
   "outputs": [
    {
     "data": {
      "application/vnd.microsoft.datawrangler.viewer.v0+json": {
       "columns": [
        {
         "name": "index",
         "rawType": "int64",
         "type": "integer"
        },
        {
         "name": "FechaHora",
         "rawType": "datetime64[ns]",
         "type": "datetime"
        },
        {
         "name": "Miembro",
         "rawType": "object",
         "type": "string"
        },
        {
         "name": "Mensaje",
         "rawType": "object",
         "type": "string"
        },
        {
         "name": "Fecha",
         "rawType": "object",
         "type": "unknown"
        },
        {
         "name": "Hora",
         "rawType": "object",
         "type": "unknown"
        },
        {
         "name": "Emojis",
         "rawType": "object",
         "type": "unknown"
        },
        {
         "name": "URLs",
         "rawType": "int64",
         "type": "integer"
        },
        {
         "name": "Letras",
         "rawType": "int64",
         "type": "integer"
        },
        {
         "name": "Palabras",
         "rawType": "int64",
         "type": "integer"
        }
       ],
       "ref": "a6a5336d-157d-45a5-b96c-aeae3cd6e503",
       "rows": [
        [
         "50621",
         "2025-07-23 09:03:00",
         "Gabriel Paiva",
         "Pipipi",
         "2025-07-23",
         "09:03:00",
         "[]",
         "0",
         "6",
         "1"
        ],
        [
         "50622",
         "2025-07-23 09:04:00",
         "Gabriel Paiva",
         "Como tash",
         "2025-07-23",
         "09:04:00",
         "[]",
         "0",
         "9",
         "2"
        ],
        [
         "50623",
         "2025-07-23 09:04:00",
         "Gabriel Paiva",
         "Ya ta bien mi vida??",
         "2025-07-23",
         "09:04:00",
         "[]",
         "0",
         "20",
         "5"
        ],
        [
         "50624",
         "2025-07-23 09:04:00",
         "Gabriel Paiva",
         "Buenos días",
         "2025-07-23",
         "09:04:00",
         "[]",
         "0",
         "11",
         "2"
        ],
        [
         "50625",
         "2025-07-23 09:05:00",
         "Gabriel Paiva",
         "Mi noviecitaaaaa porseacaso chao",
         "2025-07-23",
         "09:05:00",
         "[]",
         "0",
         "32",
         "4"
        ]
       ],
       "shape": {
        "columns": 9,
        "rows": 5
       }
      },
      "text/html": [
       "<div>\n",
       "<style scoped>\n",
       "    .dataframe tbody tr th:only-of-type {\n",
       "        vertical-align: middle;\n",
       "    }\n",
       "\n",
       "    .dataframe tbody tr th {\n",
       "        vertical-align: top;\n",
       "    }\n",
       "\n",
       "    .dataframe thead th {\n",
       "        text-align: right;\n",
       "    }\n",
       "</style>\n",
       "<table border=\"1\" class=\"dataframe\">\n",
       "  <thead>\n",
       "    <tr style=\"text-align: right;\">\n",
       "      <th></th>\n",
       "      <th>FechaHora</th>\n",
       "      <th>Miembro</th>\n",
       "      <th>Mensaje</th>\n",
       "      <th>Fecha</th>\n",
       "      <th>Hora</th>\n",
       "      <th>Emojis</th>\n",
       "      <th>URLs</th>\n",
       "      <th>Letras</th>\n",
       "      <th>Palabras</th>\n",
       "    </tr>\n",
       "  </thead>\n",
       "  <tbody>\n",
       "    <tr>\n",
       "      <th>50621</th>\n",
       "      <td>2025-07-23 09:03:00</td>\n",
       "      <td>Gabriel Paiva</td>\n",
       "      <td>Pipipi</td>\n",
       "      <td>2025-07-23</td>\n",
       "      <td>09:03:00</td>\n",
       "      <td>[]</td>\n",
       "      <td>0</td>\n",
       "      <td>6</td>\n",
       "      <td>1</td>\n",
       "    </tr>\n",
       "    <tr>\n",
       "      <th>50622</th>\n",
       "      <td>2025-07-23 09:04:00</td>\n",
       "      <td>Gabriel Paiva</td>\n",
       "      <td>Como tash</td>\n",
       "      <td>2025-07-23</td>\n",
       "      <td>09:04:00</td>\n",
       "      <td>[]</td>\n",
       "      <td>0</td>\n",
       "      <td>9</td>\n",
       "      <td>2</td>\n",
       "    </tr>\n",
       "    <tr>\n",
       "      <th>50623</th>\n",
       "      <td>2025-07-23 09:04:00</td>\n",
       "      <td>Gabriel Paiva</td>\n",
       "      <td>Ya ta bien mi vida??</td>\n",
       "      <td>2025-07-23</td>\n",
       "      <td>09:04:00</td>\n",
       "      <td>[]</td>\n",
       "      <td>0</td>\n",
       "      <td>20</td>\n",
       "      <td>5</td>\n",
       "    </tr>\n",
       "    <tr>\n",
       "      <th>50624</th>\n",
       "      <td>2025-07-23 09:04:00</td>\n",
       "      <td>Gabriel Paiva</td>\n",
       "      <td>Buenos días</td>\n",
       "      <td>2025-07-23</td>\n",
       "      <td>09:04:00</td>\n",
       "      <td>[]</td>\n",
       "      <td>0</td>\n",
       "      <td>11</td>\n",
       "      <td>2</td>\n",
       "    </tr>\n",
       "    <tr>\n",
       "      <th>50625</th>\n",
       "      <td>2025-07-23 09:05:00</td>\n",
       "      <td>Gabriel Paiva</td>\n",
       "      <td>Mi noviecitaaaaa porseacaso chao</td>\n",
       "      <td>2025-07-23</td>\n",
       "      <td>09:05:00</td>\n",
       "      <td>[]</td>\n",
       "      <td>0</td>\n",
       "      <td>32</td>\n",
       "      <td>4</td>\n",
       "    </tr>\n",
       "  </tbody>\n",
       "</table>\n",
       "</div>"
      ],
      "text/plain": [
       "                FechaHora        Miembro                           Mensaje  \\\n",
       "50621 2025-07-23 09:03:00  Gabriel Paiva                            Pipipi   \n",
       "50622 2025-07-23 09:04:00  Gabriel Paiva                         Como tash   \n",
       "50623 2025-07-23 09:04:00  Gabriel Paiva              Ya ta bien mi vida??   \n",
       "50624 2025-07-23 09:04:00  Gabriel Paiva                       Buenos días   \n",
       "50625 2025-07-23 09:05:00  Gabriel Paiva  Mi noviecitaaaaa porseacaso chao   \n",
       "\n",
       "            Fecha      Hora Emojis  URLs  Letras  Palabras  \n",
       "50621  2025-07-23  09:03:00     []     0       6         1  \n",
       "50622  2025-07-23  09:04:00     []     0       9         2  \n",
       "50623  2025-07-23  09:04:00     []     0      20         5  \n",
       "50624  2025-07-23  09:04:00     []     0      11         2  \n",
       "50625  2025-07-23  09:05:00     []     0      32         4  "
      ]
     },
     "execution_count": 21,
     "metadata": {},
     "output_type": "execute_result"
    }
   ],
   "source": [
    "# Separar mensajes (sin multimedia) y multimedia (stickers, fotos, videos)\n",
    "multimedia_df = df[df['Mensaje'] == '<Multimedia omitido>']\n",
    "mensajes_df = df.drop(multimedia_df.index)\n",
    "\n",
    "# Contar la cantidad de palabras y letras por mensaje\n",
    "mensajes_df['Letras'] = mensajes_df['Mensaje'].apply(lambda s : len(s))\n",
    "mensajes_df['Palabras'] = mensajes_df['Mensaje'].apply(lambda s : len(s.split(' ')))\n",
    "mensajes_df.tail()"
   ]
  },
  {
   "cell_type": "code",
   "execution_count": 22,
   "metadata": {
    "colab": {
     "base_uri": "https://localhost:8080/"
    },
    "id": "wCOeAzCONsT1",
    "outputId": "45b6bc5e-bac7-4d43-e6af-8d6d9b3ce149"
   },
   "outputs": [
    {
     "name": "stdout",
     "output_type": "stream",
     "text": [
      "{'Paola Rousse ❤️': [20828, np.float64(2.9032072210485884), 4554, 1037, 7], 'Gabriel Paiva': [22316, np.float64(2.793914680050188), 2928, 1296, 19]}\n"
     ]
    }
   ],
   "source": [
    "# Obtener a todos los miembros\n",
    "miembros = mensajes_df.Miembro.unique()\n",
    "\n",
    "# Crear diccionario donde se almacenará todos los datos\n",
    "dictionario = {}\n",
    "\n",
    "for i in range(len(miembros)):\n",
    "    lista = []\n",
    "    # Filtrar mensajes de un miembro en específico\n",
    "    miembro_df= mensajes_df[mensajes_df['Miembro'] == miembros[i]]\n",
    "\n",
    "    # Agregar a la lista el número total de mensajes enviados\n",
    "    lista.append(miembro_df.shape[0])\n",
    "    \n",
    "    # Agregar a la lista el número de palabras por total de mensajes (palabras por mensaje)\n",
    "    palabras_por_msj = (np.sum(miembro_df['Palabras']))/miembro_df.shape[0]\n",
    "    lista.append(palabras_por_msj)\n",
    "\n",
    "    # Agregar a la lista el número de mensajes multimedia enviados\n",
    "    multimedia = multimedia_df[multimedia_df['Miembro'] == miembros[i]].shape[0]\n",
    "    lista.append(multimedia)\n",
    "\n",
    "    # Agregar a la lista el número total de emojis enviados\n",
    "    emojis = sum(miembro_df['Emojis'].str.len())\n",
    "    lista.append(emojis)\n",
    "\n",
    "    # Agregar a la lista el número total de links enviados\n",
    "    links = sum(miembro_df['URLs'])\n",
    "    lista.append(links)\n",
    "\n",
    "    # Asignar la lista como valor a la llave del diccionario\n",
    "    dictionario[miembros[i]] = lista\n",
    "    \n",
    "print(dictionario)"
   ]
  },
  {
   "cell_type": "code",
   "execution_count": 23,
   "metadata": {
    "colab": {
     "base_uri": "https://localhost:8080/",
     "height": 990
    },
    "id": "_1J2L5te3cqv",
    "outputId": "251af9ee-9e02-4ff6-ab3a-86e2a3047773"
   },
   "outputs": [
    {
     "data": {
      "application/vnd.microsoft.datawrangler.viewer.v0+json": {
       "columns": [
        {
         "name": "index",
         "rawType": "object",
         "type": "string"
        },
        {
         "name": "Mensajes",
         "rawType": "int64",
         "type": "integer"
        },
        {
         "name": "Palabras por mensaje",
         "rawType": "float64",
         "type": "float"
        },
        {
         "name": "Multimedia",
         "rawType": "int64",
         "type": "integer"
        },
        {
         "name": "Emojis",
         "rawType": "int64",
         "type": "integer"
        },
        {
         "name": "Links",
         "rawType": "int64",
         "type": "integer"
        }
       ],
       "ref": "3c56a4dc-4496-49b5-af5e-4093031e243b",
       "rows": [
        [
         "Gabriel Paiva",
         "22316",
         "2.793914680050188",
         "2928",
         "1296",
         "19"
        ],
        [
         "Paola Rousse ❤️",
         "20828",
         "2.9032072210485884",
         "4554",
         "1037",
         "7"
        ]
       ],
       "shape": {
        "columns": 5,
        "rows": 2
       }
      },
      "text/html": [
       "<div>\n",
       "<style scoped>\n",
       "    .dataframe tbody tr th:only-of-type {\n",
       "        vertical-align: middle;\n",
       "    }\n",
       "\n",
       "    .dataframe tbody tr th {\n",
       "        vertical-align: top;\n",
       "    }\n",
       "\n",
       "    .dataframe thead th {\n",
       "        text-align: right;\n",
       "    }\n",
       "</style>\n",
       "<table border=\"1\" class=\"dataframe\">\n",
       "  <thead>\n",
       "    <tr style=\"text-align: right;\">\n",
       "      <th>Estadísticas</th>\n",
       "      <th>Mensajes</th>\n",
       "      <th>Palabras por mensaje</th>\n",
       "      <th>Multimedia</th>\n",
       "      <th>Emojis</th>\n",
       "      <th>Links</th>\n",
       "    </tr>\n",
       "  </thead>\n",
       "  <tbody>\n",
       "    <tr>\n",
       "      <th>Gabriel Paiva</th>\n",
       "      <td>22316</td>\n",
       "      <td>2.793915</td>\n",
       "      <td>2928</td>\n",
       "      <td>1296</td>\n",
       "      <td>19</td>\n",
       "    </tr>\n",
       "    <tr>\n",
       "      <th>Paola Rousse ❤️</th>\n",
       "      <td>20828</td>\n",
       "      <td>2.903207</td>\n",
       "      <td>4554</td>\n",
       "      <td>1037</td>\n",
       "      <td>7</td>\n",
       "    </tr>\n",
       "  </tbody>\n",
       "</table>\n",
       "</div>"
      ],
      "text/plain": [
       "Estadísticas     Mensajes  Palabras por mensaje  Multimedia  Emojis  Links\n",
       "Gabriel Paiva       22316              2.793915        2928    1296     19\n",
       "Paola Rousse ❤️     20828              2.903207        4554    1037      7"
      ]
     },
     "execution_count": 23,
     "metadata": {},
     "output_type": "execute_result"
    }
   ],
   "source": [
    "# Convertir de diccionario a dataframe\n",
    "miembro_stats_df = pd.DataFrame.from_dict(dictionario)\n",
    "\n",
    "# Cambiar el índice por la columna agregada 'Estadísticas'\n",
    "estadísticas = ['Mensajes', 'Palabras por mensaje', 'Multimedia', 'Emojis', 'Links']\n",
    "miembro_stats_df['Estadísticas'] = estadísticas\n",
    "miembro_stats_df.set_index('Estadísticas', inplace=True)\n",
    "\n",
    "# Transponer el dataframe\n",
    "miembro_stats_df = miembro_stats_df.T\n",
    "\n",
    "#Convertir a integer las columnas Mensajes, Multimedia Emojis y Links\n",
    "miembro_stats_df['Mensajes'] = miembro_stats_df['Mensajes'].apply(int)\n",
    "miembro_stats_df['Multimedia'] = miembro_stats_df['Multimedia'].apply(int)\n",
    "miembro_stats_df['Emojis'] = miembro_stats_df['Emojis'].apply(int)\n",
    "miembro_stats_df['Links'] = miembro_stats_df['Links'].apply(int)\n",
    "miembro_stats_df = miembro_stats_df.sort_values(by=['Mensajes'], ascending=False)\n",
    "miembro_stats_df"
   ]
  },
  {
   "cell_type": "markdown",
   "metadata": {
    "id": "V1rlmnZ6_TlY"
   },
   "source": [
    "### Paso 5: Estadísticas del comportamiento del grupo"
   ]
  },
  {
   "cell_type": "code",
   "execution_count": null,
   "metadata": {},
   "outputs": [
    {
     "data": {
      "application/vnd.microsoft.datawrangler.viewer.v0+json": {
       "columns": [
        {
         "name": "index",
         "rawType": "int64",
         "type": "integer"
        },
        {
         "name": "FechaHora",
         "rawType": "datetime64[ns]",
         "type": "datetime"
        },
        {
         "name": "Miembro",
         "rawType": "object",
         "type": "string"
        },
        {
         "name": "Mensaje",
         "rawType": "object",
         "type": "string"
        },
        {
         "name": "Fecha",
         "rawType": "object",
         "type": "unknown"
        },
        {
         "name": "Hora",
         "rawType": "object",
         "type": "unknown"
        },
        {
         "name": "Emojis",
         "rawType": "object",
         "type": "unknown"
        },
        {
         "name": "URLs",
         "rawType": "int64",
         "type": "integer"
        },
        {
         "name": "rangoHora",
         "rawType": "object",
         "type": "string"
        },
        {
         "name": "HoraDT",
         "rawType": "datetime64[ns]",
         "type": "datetime"
        },
        {
         "name": "DiaSemana",
         "rawType": "object",
         "type": "string"
        }
       ],
       "ref": "5ac5d0d6-6dc8-4621-bdb5-3bc701b41de0",
       "rows": [
        [
         "0",
         "2025-06-04 21:14:00",
         "Paola Rousse ❤️",
         "Ya volvi",
         "2025-06-04",
         "21:14:00",
         "[]",
         "0",
         "21 - 22 h",
         "1900-01-01 21:14:00",
         "Wednesday"
        ],
        [
         "1",
         "2025-06-04 21:14:00",
         "Paola Rousse ❤️",
         "Ya shegue",
         "2025-06-04",
         "21:14:00",
         "[]",
         "0",
         "21 - 22 h",
         "1900-01-01 21:14:00",
         "Wednesday"
        ],
        [
         "2",
         "2025-06-04 21:14:00",
         "Paola Rousse ❤️",
         "JAJA POBRECITO",
         "2025-06-04",
         "21:14:00",
         "[]",
         "0",
         "21 - 22 h",
         "1900-01-01 21:14:00",
         "Wednesday"
        ],
        [
         "3",
         "2025-06-04 21:14:00",
         "Paola Rousse ❤️",
         "Cual t comprastee",
         "2025-06-04",
         "21:14:00",
         "[]",
         "0",
         "21 - 22 h",
         "1900-01-01 21:14:00",
         "Wednesday"
        ],
        [
         "4",
         "2025-06-04 21:14:00",
         "Gabriel Paiva",
         "JAJAJAJA hooola",
         "2025-06-04",
         "21:14:00",
         "[]",
         "0",
         "21 - 22 h",
         "1900-01-01 21:14:00",
         "Wednesday"
        ],
        [
         "5",
         "2025-06-04 21:14:00",
         "Gabriel Paiva",
         "Que tal te fue",
         "2025-06-04",
         "21:14:00",
         "[]",
         "0",
         "21 - 22 h",
         "1900-01-01 21:14:00",
         "Wednesday"
        ],
        [
         "6",
         "2025-06-04 21:15:00",
         "Gabriel Paiva",
         "No tengo stikers",
         "2025-06-04",
         "21:15:00",
         "[]",
         "0",
         "21 - 22 h",
         "1900-01-01 21:15:00",
         "Wednesday"
        ],
        [
         "7",
         "2025-06-04 21:15:00",
         "Gabriel Paiva",
         "<Multimedia omitido>",
         "2025-06-04",
         "21:15:00",
         "[]",
         "0",
         "21 - 22 h",
         "1900-01-01 21:15:00",
         "Wednesday"
        ],
        [
         "8",
         "2025-06-04 21:15:00",
         "Gabriel Paiva",
         "Dicen los de la línea que te debo llamar mañana",
         "2025-06-04",
         "21:15:00",
         "[]",
         "0",
         "21 - 22 h",
         "1900-01-01 21:15:00",
         "Wednesday"
        ],
        [
         "9",
         "2025-06-04 21:15:00",
         "Gabriel Paiva",
         "😜",
         "2025-06-04",
         "21:15:00",
         "['😜']",
         "0",
         "21 - 22 h",
         "1900-01-01 21:15:00",
         "Wednesday"
        ],
        [
         "10",
         "2025-06-04 21:15:00",
         "Gabriel Paiva",
         "Ya se me quitó el sueño",
         "2025-06-04",
         "21:15:00",
         "[]",
         "0",
         "21 - 22 h",
         "1900-01-01 21:15:00",
         "Wednesday"
        ],
        [
         "11",
         "2025-06-04 21:15:00",
         "Gabriel Paiva",
         "Listo para madrugar",
         "2025-06-04",
         "21:15:00",
         "[]",
         "0",
         "21 - 22 h",
         "1900-01-01 21:15:00",
         "Wednesday"
        ],
        [
         "12",
         "2025-06-04 21:15:00",
         "Paola Rousse ❤️",
         "Pos ahí bien",
         "2025-06-04",
         "21:15:00",
         "[]",
         "0",
         "21 - 22 h",
         "1900-01-01 21:15:00",
         "Wednesday"
        ],
        [
         "13",
         "2025-06-04 21:15:00",
         "Paola Rousse ❤️",
         "A ti?",
         "2025-06-04",
         "21:15:00",
         "[]",
         "0",
         "21 - 22 h",
         "1900-01-01 21:15:00",
         "Wednesday"
        ],
        [
         "14",
         "2025-06-04 21:15:00",
         "Gabriel Paiva",
         "Honor",
         "2025-06-04",
         "21:15:00",
         "[]",
         "0",
         "21 - 22 h",
         "1900-01-01 21:15:00",
         "Wednesday"
        ],
        [
         "15",
         "2025-06-04 21:15:00",
         "Paola Rousse ❤️",
         "JAJAJ D LA ND",
         "2025-06-04",
         "21:15:00",
         "[]",
         "0",
         "21 - 22 h",
         "1900-01-01 21:15:00",
         "Wednesday"
        ],
        [
         "16",
         "2025-06-04 21:15:00",
         "Gabriel Paiva",
         "X5b creo",
         "2025-06-04",
         "21:15:00",
         "[]",
         "0",
         "21 - 22 h",
         "1900-01-01 21:15:00",
         "Wednesday"
        ],
        [
         "17",
         "2025-06-04 21:15:00",
         "Paola Rousse ❤️",
         "Matate d vrd",
         "2025-06-04",
         "21:15:00",
         "[]",
         "0",
         "21 - 22 h",
         "1900-01-01 21:15:00",
         "Wednesday"
        ],
        [
         "18",
         "2025-06-04 21:15:00",
         "Paola Rousse ❤️",
         "Es bueno",
         "2025-06-04",
         "21:15:00",
         "[]",
         "0",
         "21 - 22 h",
         "1900-01-01 21:15:00",
         "Wednesday"
        ],
        [
         "19",
         "2025-06-04 21:16:00",
         "Paola Rousse ❤️",
         "<Multimedia omitido>",
         "2025-06-04",
         "21:16:00",
         "[]",
         "0",
         "21 - 22 h",
         "1900-01-01 21:16:00",
         "Wednesday"
        ],
        [
         "20",
         "2025-06-04 21:16:00",
         "Gabriel Paiva",
         "Y eso? Jsjs no suena tan convencida",
         "2025-06-04",
         "21:16:00",
         "[]",
         "0",
         "21 - 22 h",
         "1900-01-01 21:16:00",
         "Wednesday"
        ],
        [
         "21",
         "2025-06-04 21:16:00",
         "Gabriel Paiva",
         "Cansadooo",
         "2025-06-04",
         "21:16:00",
         "[]",
         "0",
         "21 - 22 h",
         "1900-01-01 21:16:00",
         "Wednesday"
        ],
        [
         "22",
         "2025-06-04 21:16:00",
         "Gabriel Paiva",
         "Pero aquí toy",
         "2025-06-04",
         "21:16:00",
         "[]",
         "0",
         "21 - 22 h",
         "1900-01-01 21:16:00",
         "Wednesday"
        ],
        [
         "23",
         "2025-06-04 21:17:00",
         "Gabriel Paiva",
         "<Multimedia omitido>",
         "2025-06-04",
         "21:17:00",
         "[]",
         "0",
         "21 - 22 h",
         "1900-01-01 21:17:00",
         "Wednesday"
        ],
        [
         "24",
         "2025-06-04 21:17:00",
         "Paola Rousse ❤️",
         "Tngo hmbre",
         "2025-06-04",
         "21:17:00",
         "[]",
         "0",
         "21 - 22 h",
         "1900-01-01 21:17:00",
         "Wednesday"
        ],
        [
         "25",
         "2025-06-04 21:17:00",
         "Paola Rousse ❤️",
         "JAJA",
         "2025-06-04",
         "21:17:00",
         "[]",
         "0",
         "21 - 22 h",
         "1900-01-01 21:17:00",
         "Wednesday"
        ],
        [
         "26",
         "2025-06-04 21:17:00",
         "Paola Rousse ❤️",
         "Pobre",
         "2025-06-04",
         "21:17:00",
         "[]",
         "0",
         "21 - 22 h",
         "1900-01-01 21:17:00",
         "Wednesday"
        ],
        [
         "27",
         "2025-06-04 21:17:00",
         "Gabriel Paiva",
         "Voy",
         "2025-06-04",
         "21:17:00",
         "[]",
         "0",
         "21 - 22 h",
         "1900-01-01 21:17:00",
         "Wednesday"
        ],
        [
         "28",
         "2025-06-04 21:17:00",
         "Paola Rousse ❤️",
         "Como t fue en taller hot",
         "2025-06-04",
         "21:17:00",
         "[]",
         "0",
         "21 - 22 h",
         "1900-01-01 21:17:00",
         "Wednesday"
        ],
        [
         "29",
         "2025-06-04 21:17:00",
         "Paola Rousse ❤️",
         "Buena danza",
         "2025-06-04",
         "21:17:00",
         "[]",
         "0",
         "21 - 22 h",
         "1900-01-01 21:17:00",
         "Wednesday"
        ],
        [
         "30",
         "2025-06-04 21:17:00",
         "Paola Rousse ❤️",
         "JAJA",
         "2025-06-04",
         "21:17:00",
         "[]",
         "0",
         "21 - 22 h",
         "1900-01-01 21:17:00",
         "Wednesday"
        ],
        [
         "31",
         "2025-06-04 21:17:00",
         "Paola Rousse ❤️",
         "T paso stiker?",
         "2025-06-04",
         "21:17:00",
         "[]",
         "0",
         "21 - 22 h",
         "1900-01-01 21:17:00",
         "Wednesday"
        ],
        [
         "32",
         "2025-06-04 21:17:00",
         "Gabriel Paiva",
         "Supongo, la primera vez que pruebo un honor",
         "2025-06-04",
         "21:17:00",
         "[]",
         "0",
         "21 - 22 h",
         "1900-01-01 21:17:00",
         "Wednesday"
        ],
        [
         "33",
         "2025-06-04 21:18:00",
         "Gabriel Paiva",
         "JAJAJAJA hay cena?",
         "2025-06-04",
         "21:18:00",
         "[]",
         "0",
         "21 - 22 h",
         "1900-01-01 21:18:00",
         "Wednesday"
        ],
        [
         "34",
         "2025-06-04 21:18:00",
         "Gabriel Paiva",
         "Si pues",
         "2025-06-04",
         "21:18:00",
         "[]",
         "0",
         "21 - 22 h",
         "1900-01-01 21:18:00",
         "Wednesday"
        ],
        [
         "35",
         "2025-06-04 21:18:00",
         "Gabriel Paiva",
         "Me quedé con mis pasajes nomás JAJAJAJA",
         "2025-06-04",
         "21:18:00",
         "[]",
         "0",
         "21 - 22 h",
         "1900-01-01 21:18:00",
         "Wednesday"
        ],
        [
         "36",
         "2025-06-04 21:18:00",
         "Paola Rousse ❤️",
         "JAJAJA",
         "2025-06-04",
         "21:18:00",
         "[]",
         "0",
         "21 - 22 h",
         "1900-01-01 21:18:00",
         "Wednesday"
        ],
        [
         "37",
         "2025-06-04 21:18:00",
         "Gabriel Paiva",
         "😀",
         "2025-06-04",
         "21:18:00",
         "['😀']",
         "0",
         "21 - 22 h",
         "1900-01-01 21:18:00",
         "Wednesday"
        ],
        [
         "38",
         "2025-06-04 21:18:00",
         "Paola Rousse ❤️",
         "Muy bn",
         "2025-06-04",
         "21:18:00",
         "[]",
         "0",
         "21 - 22 h",
         "1900-01-01 21:18:00",
         "Wednesday"
        ],
        [
         "39",
         "2025-06-04 21:18:00",
         "Paola Rousse ❤️",
         "Spongo",
         "2025-06-04",
         "21:18:00",
         "[]",
         "0",
         "21 - 22 h",
         "1900-01-01 21:18:00",
         "Wednesday"
        ],
        [
         "40",
         "2025-06-04 21:18:00",
         "Paola Rousse ❤️",
         "JAJA",
         "2025-06-04",
         "21:18:00",
         "[]",
         "0",
         "21 - 22 h",
         "1900-01-01 21:18:00",
         "Wednesday"
        ],
        [
         "41",
         "2025-06-04 21:18:00",
         "Paola Rousse ❤️",
         "Pobrecito",
         "2025-06-04",
         "21:18:00",
         "[]",
         "0",
         "21 - 22 h",
         "1900-01-01 21:18:00",
         "Wednesday"
        ],
        [
         "42",
         "2025-06-04 21:18:00",
         "Gabriel Paiva",
         "JAJAJAJA nos tocó Sara kutipay",
         "2025-06-04",
         "21:18:00",
         "[]",
         "0",
         "21 - 22 h",
         "1900-01-01 21:18:00",
         "Wednesday"
        ],
        [
         "43",
         "2025-06-04 21:18:00",
         "Gabriel Paiva",
         "Ahí ando de profe",
         "2025-06-04",
         "21:18:00",
         "[]",
         "0",
         "21 - 22 h",
         "1900-01-01 21:18:00",
         "Wednesday"
        ],
        [
         "44",
         "2025-06-04 21:18:00",
         "Gabriel Paiva",
         "Siii",
         "2025-06-04",
         "21:18:00",
         "[]",
         "0",
         "21 - 22 h",
         "1900-01-01 21:18:00",
         "Wednesday"
        ],
        [
         "45",
         "2025-06-04 21:19:00",
         "Paola Rousse ❤️",
         "Si se",
         "2025-06-04",
         "21:19:00",
         "[]",
         "0",
         "21 - 22 h",
         "1900-01-01 21:19:00",
         "Wednesday"
        ],
        [
         "46",
         "2025-06-04 21:19:00",
         "Paola Rousse ❤️",
         "<Multimedia omitido>",
         "2025-06-04",
         "21:19:00",
         "[]",
         "0",
         "21 - 22 h",
         "1900-01-01 21:19:00",
         "Wednesday"
        ],
        [
         "47",
         "2025-06-04 21:19:00",
         "Gabriel Paiva",
         "Yo opino que probamos el audio",
         "2025-06-04",
         "21:19:00",
         "[]",
         "0",
         "21 - 22 h",
         "1900-01-01 21:19:00",
         "Wednesday"
        ],
        [
         "48",
         "2025-06-04 21:19:00",
         "Paola Rousse ❤️",
         "Quedan dos nama no?",
         "2025-06-04",
         "21:19:00",
         "[]",
         "0",
         "21 - 22 h",
         "1900-01-01 21:19:00",
         "Wednesday"
        ],
        [
         "49",
         "2025-06-04 21:19:00",
         "Paola Rousse ❤️",
         "Voy",
         "2025-06-04",
         "21:19:00",
         "[]",
         "0",
         "21 - 22 h",
         "1900-01-01 21:19:00",
         "Wednesday"
        ]
       ],
       "shape": {
        "columns": 10,
        "rows": 50626
       }
      },
      "text/html": [
       "<div>\n",
       "<style scoped>\n",
       "    .dataframe tbody tr th:only-of-type {\n",
       "        vertical-align: middle;\n",
       "    }\n",
       "\n",
       "    .dataframe tbody tr th {\n",
       "        vertical-align: top;\n",
       "    }\n",
       "\n",
       "    .dataframe thead th {\n",
       "        text-align: right;\n",
       "    }\n",
       "</style>\n",
       "<table border=\"1\" class=\"dataframe\">\n",
       "  <thead>\n",
       "    <tr style=\"text-align: right;\">\n",
       "      <th></th>\n",
       "      <th>FechaHora</th>\n",
       "      <th>Miembro</th>\n",
       "      <th>Mensaje</th>\n",
       "      <th>Fecha</th>\n",
       "      <th>Hora</th>\n",
       "      <th>Emojis</th>\n",
       "      <th>URLs</th>\n",
       "      <th>rangoHora</th>\n",
       "      <th>HoraDT</th>\n",
       "      <th>DiaSemana</th>\n",
       "    </tr>\n",
       "  </thead>\n",
       "  <tbody>\n",
       "    <tr>\n",
       "      <th>0</th>\n",
       "      <td>2025-06-04 21:14:00</td>\n",
       "      <td>Paola Rousse ❤️</td>\n",
       "      <td>Ya volvi</td>\n",
       "      <td>2025-06-04</td>\n",
       "      <td>21:14:00</td>\n",
       "      <td>[]</td>\n",
       "      <td>0</td>\n",
       "      <td>21 - 22 h</td>\n",
       "      <td>1900-01-01 21:14:00</td>\n",
       "      <td>Wednesday</td>\n",
       "    </tr>\n",
       "    <tr>\n",
       "      <th>1</th>\n",
       "      <td>2025-06-04 21:14:00</td>\n",
       "      <td>Paola Rousse ❤️</td>\n",
       "      <td>Ya shegue</td>\n",
       "      <td>2025-06-04</td>\n",
       "      <td>21:14:00</td>\n",
       "      <td>[]</td>\n",
       "      <td>0</td>\n",
       "      <td>21 - 22 h</td>\n",
       "      <td>1900-01-01 21:14:00</td>\n",
       "      <td>Wednesday</td>\n",
       "    </tr>\n",
       "    <tr>\n",
       "      <th>2</th>\n",
       "      <td>2025-06-04 21:14:00</td>\n",
       "      <td>Paola Rousse ❤️</td>\n",
       "      <td>JAJA POBRECITO</td>\n",
       "      <td>2025-06-04</td>\n",
       "      <td>21:14:00</td>\n",
       "      <td>[]</td>\n",
       "      <td>0</td>\n",
       "      <td>21 - 22 h</td>\n",
       "      <td>1900-01-01 21:14:00</td>\n",
       "      <td>Wednesday</td>\n",
       "    </tr>\n",
       "    <tr>\n",
       "      <th>3</th>\n",
       "      <td>2025-06-04 21:14:00</td>\n",
       "      <td>Paola Rousse ❤️</td>\n",
       "      <td>Cual t comprastee</td>\n",
       "      <td>2025-06-04</td>\n",
       "      <td>21:14:00</td>\n",
       "      <td>[]</td>\n",
       "      <td>0</td>\n",
       "      <td>21 - 22 h</td>\n",
       "      <td>1900-01-01 21:14:00</td>\n",
       "      <td>Wednesday</td>\n",
       "    </tr>\n",
       "    <tr>\n",
       "      <th>4</th>\n",
       "      <td>2025-06-04 21:14:00</td>\n",
       "      <td>Gabriel Paiva</td>\n",
       "      <td>JAJAJAJA hooola</td>\n",
       "      <td>2025-06-04</td>\n",
       "      <td>21:14:00</td>\n",
       "      <td>[]</td>\n",
       "      <td>0</td>\n",
       "      <td>21 - 22 h</td>\n",
       "      <td>1900-01-01 21:14:00</td>\n",
       "      <td>Wednesday</td>\n",
       "    </tr>\n",
       "    <tr>\n",
       "      <th>...</th>\n",
       "      <td>...</td>\n",
       "      <td>...</td>\n",
       "      <td>...</td>\n",
       "      <td>...</td>\n",
       "      <td>...</td>\n",
       "      <td>...</td>\n",
       "      <td>...</td>\n",
       "      <td>...</td>\n",
       "      <td>...</td>\n",
       "      <td>...</td>\n",
       "    </tr>\n",
       "    <tr>\n",
       "      <th>50621</th>\n",
       "      <td>2025-07-23 09:03:00</td>\n",
       "      <td>Gabriel Paiva</td>\n",
       "      <td>Pipipi</td>\n",
       "      <td>2025-07-23</td>\n",
       "      <td>09:03:00</td>\n",
       "      <td>[]</td>\n",
       "      <td>0</td>\n",
       "      <td>09 - 10 h</td>\n",
       "      <td>1900-01-01 09:03:00</td>\n",
       "      <td>Wednesday</td>\n",
       "    </tr>\n",
       "    <tr>\n",
       "      <th>50622</th>\n",
       "      <td>2025-07-23 09:04:00</td>\n",
       "      <td>Gabriel Paiva</td>\n",
       "      <td>Como tash</td>\n",
       "      <td>2025-07-23</td>\n",
       "      <td>09:04:00</td>\n",
       "      <td>[]</td>\n",
       "      <td>0</td>\n",
       "      <td>09 - 10 h</td>\n",
       "      <td>1900-01-01 09:04:00</td>\n",
       "      <td>Wednesday</td>\n",
       "    </tr>\n",
       "    <tr>\n",
       "      <th>50623</th>\n",
       "      <td>2025-07-23 09:04:00</td>\n",
       "      <td>Gabriel Paiva</td>\n",
       "      <td>Ya ta bien mi vida??</td>\n",
       "      <td>2025-07-23</td>\n",
       "      <td>09:04:00</td>\n",
       "      <td>[]</td>\n",
       "      <td>0</td>\n",
       "      <td>09 - 10 h</td>\n",
       "      <td>1900-01-01 09:04:00</td>\n",
       "      <td>Wednesday</td>\n",
       "    </tr>\n",
       "    <tr>\n",
       "      <th>50624</th>\n",
       "      <td>2025-07-23 09:04:00</td>\n",
       "      <td>Gabriel Paiva</td>\n",
       "      <td>Buenos días</td>\n",
       "      <td>2025-07-23</td>\n",
       "      <td>09:04:00</td>\n",
       "      <td>[]</td>\n",
       "      <td>0</td>\n",
       "      <td>09 - 10 h</td>\n",
       "      <td>1900-01-01 09:04:00</td>\n",
       "      <td>Wednesday</td>\n",
       "    </tr>\n",
       "    <tr>\n",
       "      <th>50625</th>\n",
       "      <td>2025-07-23 09:05:00</td>\n",
       "      <td>Gabriel Paiva</td>\n",
       "      <td>Mi noviecitaaaaa porseacaso chao</td>\n",
       "      <td>2025-07-23</td>\n",
       "      <td>09:05:00</td>\n",
       "      <td>[]</td>\n",
       "      <td>0</td>\n",
       "      <td>09 - 10 h</td>\n",
       "      <td>1900-01-01 09:05:00</td>\n",
       "      <td>Wednesday</td>\n",
       "    </tr>\n",
       "  </tbody>\n",
       "</table>\n",
       "<p>50626 rows × 10 columns</p>\n",
       "</div>"
      ],
      "text/plain": [
       "                FechaHora          Miembro                           Mensaje  \\\n",
       "0     2025-06-04 21:14:00  Paola Rousse ❤️                          Ya volvi   \n",
       "1     2025-06-04 21:14:00  Paola Rousse ❤️                         Ya shegue   \n",
       "2     2025-06-04 21:14:00  Paola Rousse ❤️                    JAJA POBRECITO   \n",
       "3     2025-06-04 21:14:00  Paola Rousse ❤️                 Cual t comprastee   \n",
       "4     2025-06-04 21:14:00    Gabriel Paiva                   JAJAJAJA hooola   \n",
       "...                   ...              ...                               ...   \n",
       "50621 2025-07-23 09:03:00    Gabriel Paiva                            Pipipi   \n",
       "50622 2025-07-23 09:04:00    Gabriel Paiva                         Como tash   \n",
       "50623 2025-07-23 09:04:00    Gabriel Paiva              Ya ta bien mi vida??   \n",
       "50624 2025-07-23 09:04:00    Gabriel Paiva                       Buenos días   \n",
       "50625 2025-07-23 09:05:00    Gabriel Paiva  Mi noviecitaaaaa porseacaso chao   \n",
       "\n",
       "            Fecha      Hora Emojis  URLs  rangoHora              HoraDT  \\\n",
       "0      2025-06-04  21:14:00     []     0  21 - 22 h 1900-01-01 21:14:00   \n",
       "1      2025-06-04  21:14:00     []     0  21 - 22 h 1900-01-01 21:14:00   \n",
       "2      2025-06-04  21:14:00     []     0  21 - 22 h 1900-01-01 21:14:00   \n",
       "3      2025-06-04  21:14:00     []     0  21 - 22 h 1900-01-01 21:14:00   \n",
       "4      2025-06-04  21:14:00     []     0  21 - 22 h 1900-01-01 21:14:00   \n",
       "...           ...       ...    ...   ...        ...                 ...   \n",
       "50621  2025-07-23  09:03:00     []     0  09 - 10 h 1900-01-01 09:03:00   \n",
       "50622  2025-07-23  09:04:00     []     0  09 - 10 h 1900-01-01 09:04:00   \n",
       "50623  2025-07-23  09:04:00     []     0  09 - 10 h 1900-01-01 09:04:00   \n",
       "50624  2025-07-23  09:04:00     []     0  09 - 10 h 1900-01-01 09:04:00   \n",
       "50625  2025-07-23  09:05:00     []     0  09 - 10 h 1900-01-01 09:05:00   \n",
       "\n",
       "       DiaSemana  \n",
       "0      Wednesday  \n",
       "1      Wednesday  \n",
       "2      Wednesday  \n",
       "3      Wednesday  \n",
       "4      Wednesday  \n",
       "...          ...  \n",
       "50621  Wednesday  \n",
       "50622  Wednesday  \n",
       "50623  Wednesday  \n",
       "50624  Wednesday  \n",
       "50625  Wednesday  \n",
       "\n",
       "[50626 rows x 10 columns]"
      ]
     },
     "execution_count": 29,
     "metadata": {},
     "output_type": "execute_result"
    }
   ],
   "source": [
    "# Crear columna 'rangoHora' directamente desde la hora\n",
    "def create_range_hour(time_obj):\n",
    "    if pd.isna(time_obj):\n",
    "        return None\n",
    "    start = time_obj.hour\n",
    "    end = (start + 1) % 24\n",
    "    return f'{start:02d} - {end:02d} h'\n",
    "\n",
    "df['rangoHora'] = df['Hora'].apply(create_range_hour)\n",
    "\n",
    "# Agregar columna 'día de la semana'\n",
    "df['DiaSemana'] = df['FechaHora'].dt.day_name()\n",
    "\n",
    "# (Opcional) Filtrar por fechas como antes\n",
    "start_date = pd.to_datetime('2024-10-01')\n",
    "end_date = pd.to_datetime('2029-11-30')\n",
    "\n",
    "df = df[(df['FechaHora'] >= start_date) & (df['FechaHora'] <= end_date)].reset_index(drop=True)\n",
    "df['HoraDT'] = pd.to_datetime(df['Hora'].astype(str), format='%H:%M:%S', errors='coerce')\n",
    "\n",
    "df"
   ]
  },
  {
   "cell_type": "code",
   "execution_count": 42,
   "metadata": {},
   "outputs": [
    {
     "data": {
      "application/vnd.microsoft.datawrangler.viewer.v0+json": {
       "columns": [
        {
         "name": "index",
         "rawType": "int64",
         "type": "integer"
        },
        {
         "name": "FechaHora",
         "rawType": "datetime64[ns]",
         "type": "datetime"
        },
        {
         "name": "Miembro",
         "rawType": "object",
         "type": "string"
        },
        {
         "name": "Mensaje",
         "rawType": "object",
         "type": "string"
        },
        {
         "name": "Fecha",
         "rawType": "object",
         "type": "unknown"
        },
        {
         "name": "Hora",
         "rawType": "object",
         "type": "unknown"
        },
        {
         "name": "Emojis",
         "rawType": "object",
         "type": "unknown"
        },
        {
         "name": "URLs",
         "rawType": "int64",
         "type": "integer"
        },
        {
         "name": "rangoHora",
         "rawType": "object",
         "type": "string"
        },
        {
         "name": "HoraDT",
         "rawType": "datetime64[ns]",
         "type": "datetime"
        },
        {
         "name": "DiaSemana",
         "rawType": "object",
         "type": "string"
        },
        {
         "name": "DiaSemana2",
         "rawType": "object",
         "type": "string"
        }
       ],
       "ref": "38d8fae6-669b-4e19-81d9-2829d690646d",
       "rows": [
        [
         "0",
         "2025-06-04 21:14:00",
         "Paola Rousse ❤️",
         "Ya volvi",
         "2025-06-04",
         "21:14:00",
         "[]",
         "0",
         "21 - 22 h",
         "1900-01-01 21:14:00",
         "Wednesday",
         "3 Miércoles"
        ],
        [
         "1",
         "2025-06-04 21:14:00",
         "Paola Rousse ❤️",
         "Ya shegue",
         "2025-06-04",
         "21:14:00",
         "[]",
         "0",
         "21 - 22 h",
         "1900-01-01 21:14:00",
         "Wednesday",
         "3 Miércoles"
        ],
        [
         "2",
         "2025-06-04 21:14:00",
         "Paola Rousse ❤️",
         "JAJA POBRECITO",
         "2025-06-04",
         "21:14:00",
         "[]",
         "0",
         "21 - 22 h",
         "1900-01-01 21:14:00",
         "Wednesday",
         "3 Miércoles"
        ],
        [
         "3",
         "2025-06-04 21:14:00",
         "Paola Rousse ❤️",
         "Cual t comprastee",
         "2025-06-04",
         "21:14:00",
         "[]",
         "0",
         "21 - 22 h",
         "1900-01-01 21:14:00",
         "Wednesday",
         "3 Miércoles"
        ],
        [
         "4",
         "2025-06-04 21:14:00",
         "Gabriel Paiva",
         "JAJAJAJA hooola",
         "2025-06-04",
         "21:14:00",
         "[]",
         "0",
         "21 - 22 h",
         "1900-01-01 21:14:00",
         "Wednesday",
         "3 Miércoles"
        ],
        [
         "5",
         "2025-06-04 21:14:00",
         "Gabriel Paiva",
         "Que tal te fue",
         "2025-06-04",
         "21:14:00",
         "[]",
         "0",
         "21 - 22 h",
         "1900-01-01 21:14:00",
         "Wednesday",
         "3 Miércoles"
        ],
        [
         "6",
         "2025-06-04 21:15:00",
         "Gabriel Paiva",
         "No tengo stikers",
         "2025-06-04",
         "21:15:00",
         "[]",
         "0",
         "21 - 22 h",
         "1900-01-01 21:15:00",
         "Wednesday",
         "3 Miércoles"
        ],
        [
         "7",
         "2025-06-04 21:15:00",
         "Gabriel Paiva",
         "<Multimedia omitido>",
         "2025-06-04",
         "21:15:00",
         "[]",
         "0",
         "21 - 22 h",
         "1900-01-01 21:15:00",
         "Wednesday",
         "3 Miércoles"
        ],
        [
         "8",
         "2025-06-04 21:15:00",
         "Gabriel Paiva",
         "Dicen los de la línea que te debo llamar mañana",
         "2025-06-04",
         "21:15:00",
         "[]",
         "0",
         "21 - 22 h",
         "1900-01-01 21:15:00",
         "Wednesday",
         "3 Miércoles"
        ],
        [
         "9",
         "2025-06-04 21:15:00",
         "Gabriel Paiva",
         "😜",
         "2025-06-04",
         "21:15:00",
         "['😜']",
         "0",
         "21 - 22 h",
         "1900-01-01 21:15:00",
         "Wednesday",
         "3 Miércoles"
        ],
        [
         "10",
         "2025-06-04 21:15:00",
         "Gabriel Paiva",
         "Ya se me quitó el sueño",
         "2025-06-04",
         "21:15:00",
         "[]",
         "0",
         "21 - 22 h",
         "1900-01-01 21:15:00",
         "Wednesday",
         "3 Miércoles"
        ],
        [
         "11",
         "2025-06-04 21:15:00",
         "Gabriel Paiva",
         "Listo para madrugar",
         "2025-06-04",
         "21:15:00",
         "[]",
         "0",
         "21 - 22 h",
         "1900-01-01 21:15:00",
         "Wednesday",
         "3 Miércoles"
        ],
        [
         "12",
         "2025-06-04 21:15:00",
         "Paola Rousse ❤️",
         "Pos ahí bien",
         "2025-06-04",
         "21:15:00",
         "[]",
         "0",
         "21 - 22 h",
         "1900-01-01 21:15:00",
         "Wednesday",
         "3 Miércoles"
        ],
        [
         "13",
         "2025-06-04 21:15:00",
         "Paola Rousse ❤️",
         "A ti?",
         "2025-06-04",
         "21:15:00",
         "[]",
         "0",
         "21 - 22 h",
         "1900-01-01 21:15:00",
         "Wednesday",
         "3 Miércoles"
        ],
        [
         "14",
         "2025-06-04 21:15:00",
         "Gabriel Paiva",
         "Honor",
         "2025-06-04",
         "21:15:00",
         "[]",
         "0",
         "21 - 22 h",
         "1900-01-01 21:15:00",
         "Wednesday",
         "3 Miércoles"
        ],
        [
         "15",
         "2025-06-04 21:15:00",
         "Paola Rousse ❤️",
         "JAJAJ D LA ND",
         "2025-06-04",
         "21:15:00",
         "[]",
         "0",
         "21 - 22 h",
         "1900-01-01 21:15:00",
         "Wednesday",
         "3 Miércoles"
        ],
        [
         "16",
         "2025-06-04 21:15:00",
         "Gabriel Paiva",
         "X5b creo",
         "2025-06-04",
         "21:15:00",
         "[]",
         "0",
         "21 - 22 h",
         "1900-01-01 21:15:00",
         "Wednesday",
         "3 Miércoles"
        ],
        [
         "17",
         "2025-06-04 21:15:00",
         "Paola Rousse ❤️",
         "Matate d vrd",
         "2025-06-04",
         "21:15:00",
         "[]",
         "0",
         "21 - 22 h",
         "1900-01-01 21:15:00",
         "Wednesday",
         "3 Miércoles"
        ],
        [
         "18",
         "2025-06-04 21:15:00",
         "Paola Rousse ❤️",
         "Es bueno",
         "2025-06-04",
         "21:15:00",
         "[]",
         "0",
         "21 - 22 h",
         "1900-01-01 21:15:00",
         "Wednesday",
         "3 Miércoles"
        ],
        [
         "19",
         "2025-06-04 21:16:00",
         "Paola Rousse ❤️",
         "<Multimedia omitido>",
         "2025-06-04",
         "21:16:00",
         "[]",
         "0",
         "21 - 22 h",
         "1900-01-01 21:16:00",
         "Wednesday",
         "3 Miércoles"
        ],
        [
         "20",
         "2025-06-04 21:16:00",
         "Gabriel Paiva",
         "Y eso? Jsjs no suena tan convencida",
         "2025-06-04",
         "21:16:00",
         "[]",
         "0",
         "21 - 22 h",
         "1900-01-01 21:16:00",
         "Wednesday",
         "3 Miércoles"
        ],
        [
         "21",
         "2025-06-04 21:16:00",
         "Gabriel Paiva",
         "Cansadooo",
         "2025-06-04",
         "21:16:00",
         "[]",
         "0",
         "21 - 22 h",
         "1900-01-01 21:16:00",
         "Wednesday",
         "3 Miércoles"
        ],
        [
         "22",
         "2025-06-04 21:16:00",
         "Gabriel Paiva",
         "Pero aquí toy",
         "2025-06-04",
         "21:16:00",
         "[]",
         "0",
         "21 - 22 h",
         "1900-01-01 21:16:00",
         "Wednesday",
         "3 Miércoles"
        ],
        [
         "23",
         "2025-06-04 21:17:00",
         "Gabriel Paiva",
         "<Multimedia omitido>",
         "2025-06-04",
         "21:17:00",
         "[]",
         "0",
         "21 - 22 h",
         "1900-01-01 21:17:00",
         "Wednesday",
         "3 Miércoles"
        ],
        [
         "24",
         "2025-06-04 21:17:00",
         "Paola Rousse ❤️",
         "Tngo hmbre",
         "2025-06-04",
         "21:17:00",
         "[]",
         "0",
         "21 - 22 h",
         "1900-01-01 21:17:00",
         "Wednesday",
         "3 Miércoles"
        ],
        [
         "25",
         "2025-06-04 21:17:00",
         "Paola Rousse ❤️",
         "JAJA",
         "2025-06-04",
         "21:17:00",
         "[]",
         "0",
         "21 - 22 h",
         "1900-01-01 21:17:00",
         "Wednesday",
         "3 Miércoles"
        ],
        [
         "26",
         "2025-06-04 21:17:00",
         "Paola Rousse ❤️",
         "Pobre",
         "2025-06-04",
         "21:17:00",
         "[]",
         "0",
         "21 - 22 h",
         "1900-01-01 21:17:00",
         "Wednesday",
         "3 Miércoles"
        ],
        [
         "27",
         "2025-06-04 21:17:00",
         "Gabriel Paiva",
         "Voy",
         "2025-06-04",
         "21:17:00",
         "[]",
         "0",
         "21 - 22 h",
         "1900-01-01 21:17:00",
         "Wednesday",
         "3 Miércoles"
        ],
        [
         "28",
         "2025-06-04 21:17:00",
         "Paola Rousse ❤️",
         "Como t fue en taller hot",
         "2025-06-04",
         "21:17:00",
         "[]",
         "0",
         "21 - 22 h",
         "1900-01-01 21:17:00",
         "Wednesday",
         "3 Miércoles"
        ],
        [
         "29",
         "2025-06-04 21:17:00",
         "Paola Rousse ❤️",
         "Buena danza",
         "2025-06-04",
         "21:17:00",
         "[]",
         "0",
         "21 - 22 h",
         "1900-01-01 21:17:00",
         "Wednesday",
         "3 Miércoles"
        ],
        [
         "30",
         "2025-06-04 21:17:00",
         "Paola Rousse ❤️",
         "JAJA",
         "2025-06-04",
         "21:17:00",
         "[]",
         "0",
         "21 - 22 h",
         "1900-01-01 21:17:00",
         "Wednesday",
         "3 Miércoles"
        ],
        [
         "31",
         "2025-06-04 21:17:00",
         "Paola Rousse ❤️",
         "T paso stiker?",
         "2025-06-04",
         "21:17:00",
         "[]",
         "0",
         "21 - 22 h",
         "1900-01-01 21:17:00",
         "Wednesday",
         "3 Miércoles"
        ],
        [
         "32",
         "2025-06-04 21:17:00",
         "Gabriel Paiva",
         "Supongo, la primera vez que pruebo un honor",
         "2025-06-04",
         "21:17:00",
         "[]",
         "0",
         "21 - 22 h",
         "1900-01-01 21:17:00",
         "Wednesday",
         "3 Miércoles"
        ],
        [
         "33",
         "2025-06-04 21:18:00",
         "Gabriel Paiva",
         "JAJAJAJA hay cena?",
         "2025-06-04",
         "21:18:00",
         "[]",
         "0",
         "21 - 22 h",
         "1900-01-01 21:18:00",
         "Wednesday",
         "3 Miércoles"
        ],
        [
         "34",
         "2025-06-04 21:18:00",
         "Gabriel Paiva",
         "Si pues",
         "2025-06-04",
         "21:18:00",
         "[]",
         "0",
         "21 - 22 h",
         "1900-01-01 21:18:00",
         "Wednesday",
         "3 Miércoles"
        ],
        [
         "35",
         "2025-06-04 21:18:00",
         "Gabriel Paiva",
         "Me quedé con mis pasajes nomás JAJAJAJA",
         "2025-06-04",
         "21:18:00",
         "[]",
         "0",
         "21 - 22 h",
         "1900-01-01 21:18:00",
         "Wednesday",
         "3 Miércoles"
        ],
        [
         "36",
         "2025-06-04 21:18:00",
         "Paola Rousse ❤️",
         "JAJAJA",
         "2025-06-04",
         "21:18:00",
         "[]",
         "0",
         "21 - 22 h",
         "1900-01-01 21:18:00",
         "Wednesday",
         "3 Miércoles"
        ],
        [
         "37",
         "2025-06-04 21:18:00",
         "Gabriel Paiva",
         "😀",
         "2025-06-04",
         "21:18:00",
         "['😀']",
         "0",
         "21 - 22 h",
         "1900-01-01 21:18:00",
         "Wednesday",
         "3 Miércoles"
        ],
        [
         "38",
         "2025-06-04 21:18:00",
         "Paola Rousse ❤️",
         "Muy bn",
         "2025-06-04",
         "21:18:00",
         "[]",
         "0",
         "21 - 22 h",
         "1900-01-01 21:18:00",
         "Wednesday",
         "3 Miércoles"
        ],
        [
         "39",
         "2025-06-04 21:18:00",
         "Paola Rousse ❤️",
         "Spongo",
         "2025-06-04",
         "21:18:00",
         "[]",
         "0",
         "21 - 22 h",
         "1900-01-01 21:18:00",
         "Wednesday",
         "3 Miércoles"
        ],
        [
         "40",
         "2025-06-04 21:18:00",
         "Paola Rousse ❤️",
         "JAJA",
         "2025-06-04",
         "21:18:00",
         "[]",
         "0",
         "21 - 22 h",
         "1900-01-01 21:18:00",
         "Wednesday",
         "3 Miércoles"
        ],
        [
         "41",
         "2025-06-04 21:18:00",
         "Paola Rousse ❤️",
         "Pobrecito",
         "2025-06-04",
         "21:18:00",
         "[]",
         "0",
         "21 - 22 h",
         "1900-01-01 21:18:00",
         "Wednesday",
         "3 Miércoles"
        ],
        [
         "42",
         "2025-06-04 21:18:00",
         "Gabriel Paiva",
         "JAJAJAJA nos tocó Sara kutipay",
         "2025-06-04",
         "21:18:00",
         "[]",
         "0",
         "21 - 22 h",
         "1900-01-01 21:18:00",
         "Wednesday",
         "3 Miércoles"
        ],
        [
         "43",
         "2025-06-04 21:18:00",
         "Gabriel Paiva",
         "Ahí ando de profe",
         "2025-06-04",
         "21:18:00",
         "[]",
         "0",
         "21 - 22 h",
         "1900-01-01 21:18:00",
         "Wednesday",
         "3 Miércoles"
        ],
        [
         "44",
         "2025-06-04 21:18:00",
         "Gabriel Paiva",
         "Siii",
         "2025-06-04",
         "21:18:00",
         "[]",
         "0",
         "21 - 22 h",
         "1900-01-01 21:18:00",
         "Wednesday",
         "3 Miércoles"
        ],
        [
         "45",
         "2025-06-04 21:19:00",
         "Paola Rousse ❤️",
         "Si se",
         "2025-06-04",
         "21:19:00",
         "[]",
         "0",
         "21 - 22 h",
         "1900-01-01 21:19:00",
         "Wednesday",
         "3 Miércoles"
        ],
        [
         "46",
         "2025-06-04 21:19:00",
         "Paola Rousse ❤️",
         "<Multimedia omitido>",
         "2025-06-04",
         "21:19:00",
         "[]",
         "0",
         "21 - 22 h",
         "1900-01-01 21:19:00",
         "Wednesday",
         "3 Miércoles"
        ],
        [
         "47",
         "2025-06-04 21:19:00",
         "Gabriel Paiva",
         "Yo opino que probamos el audio",
         "2025-06-04",
         "21:19:00",
         "[]",
         "0",
         "21 - 22 h",
         "1900-01-01 21:19:00",
         "Wednesday",
         "3 Miércoles"
        ],
        [
         "48",
         "2025-06-04 21:19:00",
         "Paola Rousse ❤️",
         "Quedan dos nama no?",
         "2025-06-04",
         "21:19:00",
         "[]",
         "0",
         "21 - 22 h",
         "1900-01-01 21:19:00",
         "Wednesday",
         "3 Miércoles"
        ],
        [
         "49",
         "2025-06-04 21:19:00",
         "Paola Rousse ❤️",
         "Voy",
         "2025-06-04",
         "21:19:00",
         "[]",
         "0",
         "21 - 22 h",
         "1900-01-01 21:19:00",
         "Wednesday",
         "3 Miércoles"
        ]
       ],
       "shape": {
        "columns": 11,
        "rows": 50626
       }
      },
      "text/html": [
       "<div>\n",
       "<style scoped>\n",
       "    .dataframe tbody tr th:only-of-type {\n",
       "        vertical-align: middle;\n",
       "    }\n",
       "\n",
       "    .dataframe tbody tr th {\n",
       "        vertical-align: top;\n",
       "    }\n",
       "\n",
       "    .dataframe thead th {\n",
       "        text-align: right;\n",
       "    }\n",
       "</style>\n",
       "<table border=\"1\" class=\"dataframe\">\n",
       "  <thead>\n",
       "    <tr style=\"text-align: right;\">\n",
       "      <th></th>\n",
       "      <th>FechaHora</th>\n",
       "      <th>Miembro</th>\n",
       "      <th>Mensaje</th>\n",
       "      <th>Fecha</th>\n",
       "      <th>Hora</th>\n",
       "      <th>Emojis</th>\n",
       "      <th>URLs</th>\n",
       "      <th>rangoHora</th>\n",
       "      <th>HoraDT</th>\n",
       "      <th>DiaSemana</th>\n",
       "      <th>DiaSemana2</th>\n",
       "    </tr>\n",
       "  </thead>\n",
       "  <tbody>\n",
       "    <tr>\n",
       "      <th>0</th>\n",
       "      <td>2025-06-04 21:14:00</td>\n",
       "      <td>Paola Rousse ❤️</td>\n",
       "      <td>Ya volvi</td>\n",
       "      <td>2025-06-04</td>\n",
       "      <td>21:14:00</td>\n",
       "      <td>[]</td>\n",
       "      <td>0</td>\n",
       "      <td>21 - 22 h</td>\n",
       "      <td>1900-01-01 21:14:00</td>\n",
       "      <td>Wednesday</td>\n",
       "      <td>3 Miércoles</td>\n",
       "    </tr>\n",
       "    <tr>\n",
       "      <th>1</th>\n",
       "      <td>2025-06-04 21:14:00</td>\n",
       "      <td>Paola Rousse ❤️</td>\n",
       "      <td>Ya shegue</td>\n",
       "      <td>2025-06-04</td>\n",
       "      <td>21:14:00</td>\n",
       "      <td>[]</td>\n",
       "      <td>0</td>\n",
       "      <td>21 - 22 h</td>\n",
       "      <td>1900-01-01 21:14:00</td>\n",
       "      <td>Wednesday</td>\n",
       "      <td>3 Miércoles</td>\n",
       "    </tr>\n",
       "    <tr>\n",
       "      <th>2</th>\n",
       "      <td>2025-06-04 21:14:00</td>\n",
       "      <td>Paola Rousse ❤️</td>\n",
       "      <td>JAJA POBRECITO</td>\n",
       "      <td>2025-06-04</td>\n",
       "      <td>21:14:00</td>\n",
       "      <td>[]</td>\n",
       "      <td>0</td>\n",
       "      <td>21 - 22 h</td>\n",
       "      <td>1900-01-01 21:14:00</td>\n",
       "      <td>Wednesday</td>\n",
       "      <td>3 Miércoles</td>\n",
       "    </tr>\n",
       "    <tr>\n",
       "      <th>3</th>\n",
       "      <td>2025-06-04 21:14:00</td>\n",
       "      <td>Paola Rousse ❤️</td>\n",
       "      <td>Cual t comprastee</td>\n",
       "      <td>2025-06-04</td>\n",
       "      <td>21:14:00</td>\n",
       "      <td>[]</td>\n",
       "      <td>0</td>\n",
       "      <td>21 - 22 h</td>\n",
       "      <td>1900-01-01 21:14:00</td>\n",
       "      <td>Wednesday</td>\n",
       "      <td>3 Miércoles</td>\n",
       "    </tr>\n",
       "    <tr>\n",
       "      <th>4</th>\n",
       "      <td>2025-06-04 21:14:00</td>\n",
       "      <td>Gabriel Paiva</td>\n",
       "      <td>JAJAJAJA hooola</td>\n",
       "      <td>2025-06-04</td>\n",
       "      <td>21:14:00</td>\n",
       "      <td>[]</td>\n",
       "      <td>0</td>\n",
       "      <td>21 - 22 h</td>\n",
       "      <td>1900-01-01 21:14:00</td>\n",
       "      <td>Wednesday</td>\n",
       "      <td>3 Miércoles</td>\n",
       "    </tr>\n",
       "    <tr>\n",
       "      <th>...</th>\n",
       "      <td>...</td>\n",
       "      <td>...</td>\n",
       "      <td>...</td>\n",
       "      <td>...</td>\n",
       "      <td>...</td>\n",
       "      <td>...</td>\n",
       "      <td>...</td>\n",
       "      <td>...</td>\n",
       "      <td>...</td>\n",
       "      <td>...</td>\n",
       "      <td>...</td>\n",
       "    </tr>\n",
       "    <tr>\n",
       "      <th>50621</th>\n",
       "      <td>2025-07-23 09:03:00</td>\n",
       "      <td>Gabriel Paiva</td>\n",
       "      <td>Pipipi</td>\n",
       "      <td>2025-07-23</td>\n",
       "      <td>09:03:00</td>\n",
       "      <td>[]</td>\n",
       "      <td>0</td>\n",
       "      <td>09 - 10 h</td>\n",
       "      <td>1900-01-01 09:03:00</td>\n",
       "      <td>Wednesday</td>\n",
       "      <td>3 Miércoles</td>\n",
       "    </tr>\n",
       "    <tr>\n",
       "      <th>50622</th>\n",
       "      <td>2025-07-23 09:04:00</td>\n",
       "      <td>Gabriel Paiva</td>\n",
       "      <td>Como tash</td>\n",
       "      <td>2025-07-23</td>\n",
       "      <td>09:04:00</td>\n",
       "      <td>[]</td>\n",
       "      <td>0</td>\n",
       "      <td>09 - 10 h</td>\n",
       "      <td>1900-01-01 09:04:00</td>\n",
       "      <td>Wednesday</td>\n",
       "      <td>3 Miércoles</td>\n",
       "    </tr>\n",
       "    <tr>\n",
       "      <th>50623</th>\n",
       "      <td>2025-07-23 09:04:00</td>\n",
       "      <td>Gabriel Paiva</td>\n",
       "      <td>Ya ta bien mi vida??</td>\n",
       "      <td>2025-07-23</td>\n",
       "      <td>09:04:00</td>\n",
       "      <td>[]</td>\n",
       "      <td>0</td>\n",
       "      <td>09 - 10 h</td>\n",
       "      <td>1900-01-01 09:04:00</td>\n",
       "      <td>Wednesday</td>\n",
       "      <td>3 Miércoles</td>\n",
       "    </tr>\n",
       "    <tr>\n",
       "      <th>50624</th>\n",
       "      <td>2025-07-23 09:04:00</td>\n",
       "      <td>Gabriel Paiva</td>\n",
       "      <td>Buenos días</td>\n",
       "      <td>2025-07-23</td>\n",
       "      <td>09:04:00</td>\n",
       "      <td>[]</td>\n",
       "      <td>0</td>\n",
       "      <td>09 - 10 h</td>\n",
       "      <td>1900-01-01 09:04:00</td>\n",
       "      <td>Wednesday</td>\n",
       "      <td>3 Miércoles</td>\n",
       "    </tr>\n",
       "    <tr>\n",
       "      <th>50625</th>\n",
       "      <td>2025-07-23 09:05:00</td>\n",
       "      <td>Gabriel Paiva</td>\n",
       "      <td>Mi noviecitaaaaa porseacaso chao</td>\n",
       "      <td>2025-07-23</td>\n",
       "      <td>09:05:00</td>\n",
       "      <td>[]</td>\n",
       "      <td>0</td>\n",
       "      <td>09 - 10 h</td>\n",
       "      <td>1900-01-01 09:05:00</td>\n",
       "      <td>Wednesday</td>\n",
       "      <td>3 Miércoles</td>\n",
       "    </tr>\n",
       "  </tbody>\n",
       "</table>\n",
       "<p>50626 rows × 11 columns</p>\n",
       "</div>"
      ],
      "text/plain": [
       "                FechaHora          Miembro                           Mensaje  \\\n",
       "0     2025-06-04 21:14:00  Paola Rousse ❤️                          Ya volvi   \n",
       "1     2025-06-04 21:14:00  Paola Rousse ❤️                         Ya shegue   \n",
       "2     2025-06-04 21:14:00  Paola Rousse ❤️                    JAJA POBRECITO   \n",
       "3     2025-06-04 21:14:00  Paola Rousse ❤️                 Cual t comprastee   \n",
       "4     2025-06-04 21:14:00    Gabriel Paiva                   JAJAJAJA hooola   \n",
       "...                   ...              ...                               ...   \n",
       "50621 2025-07-23 09:03:00    Gabriel Paiva                            Pipipi   \n",
       "50622 2025-07-23 09:04:00    Gabriel Paiva                         Como tash   \n",
       "50623 2025-07-23 09:04:00    Gabriel Paiva              Ya ta bien mi vida??   \n",
       "50624 2025-07-23 09:04:00    Gabriel Paiva                       Buenos días   \n",
       "50625 2025-07-23 09:05:00    Gabriel Paiva  Mi noviecitaaaaa porseacaso chao   \n",
       "\n",
       "            Fecha      Hora Emojis  URLs  rangoHora              HoraDT  \\\n",
       "0      2025-06-04  21:14:00     []     0  21 - 22 h 1900-01-01 21:14:00   \n",
       "1      2025-06-04  21:14:00     []     0  21 - 22 h 1900-01-01 21:14:00   \n",
       "2      2025-06-04  21:14:00     []     0  21 - 22 h 1900-01-01 21:14:00   \n",
       "3      2025-06-04  21:14:00     []     0  21 - 22 h 1900-01-01 21:14:00   \n",
       "4      2025-06-04  21:14:00     []     0  21 - 22 h 1900-01-01 21:14:00   \n",
       "...           ...       ...    ...   ...        ...                 ...   \n",
       "50621  2025-07-23  09:03:00     []     0  09 - 10 h 1900-01-01 09:03:00   \n",
       "50622  2025-07-23  09:04:00     []     0  09 - 10 h 1900-01-01 09:04:00   \n",
       "50623  2025-07-23  09:04:00     []     0  09 - 10 h 1900-01-01 09:04:00   \n",
       "50624  2025-07-23  09:04:00     []     0  09 - 10 h 1900-01-01 09:04:00   \n",
       "50625  2025-07-23  09:05:00     []     0  09 - 10 h 1900-01-01 09:05:00   \n",
       "\n",
       "       DiaSemana   DiaSemana2  \n",
       "0      Wednesday  3 Miércoles  \n",
       "1      Wednesday  3 Miércoles  \n",
       "2      Wednesday  3 Miércoles  \n",
       "3      Wednesday  3 Miércoles  \n",
       "4      Wednesday  3 Miércoles  \n",
       "...          ...          ...  \n",
       "50621  Wednesday  3 Miércoles  \n",
       "50622  Wednesday  3 Miércoles  \n",
       "50623  Wednesday  3 Miércoles  \n",
       "50624  Wednesday  3 Miércoles  \n",
       "50625  Wednesday  3 Miércoles  \n",
       "\n",
       "[50626 rows x 11 columns]"
      ]
     },
     "execution_count": 42,
     "metadata": {},
     "output_type": "execute_result"
    }
   ],
   "source": [
    "# Aplicar el mapeo\n",
    "mapeo_dias_espanol = {\n",
    "    'Monday': '1 Lunes',\n",
    "    'Tuesday': '2 Martes',\n",
    "    'Wednesday': '3 Miércoles',\n",
    "    'Thursday': '4 Jueves',\n",
    "    'Friday': '5 Viernes',\n",
    "    'Saturday': '6 Sábado',\n",
    "    'Sunday': '7 Domingo'\n",
    "}\n",
    "\n",
    "df['DiaSemana'] = df['FechaHora'].dt.day_name()\n",
    "df['DiaSemana2'] = df['DiaSemana'].map(mapeo_dias_espanol)\n",
    "df"
   ]
  },
  {
   "cell_type": "markdown",
   "metadata": {
    "id": "g1je7y67Ow_6"
   },
   "source": [
    "#### Número de mensajes por rango de hora"
   ]
  },
  {
   "cell_type": "code",
   "execution_count": 43,
   "metadata": {
    "colab": {
     "base_uri": "https://localhost:8080/",
     "height": 615
    },
    "id": "X6OZemBtQVaC",
    "outputId": "c1e36183-5d2d-4d57-88af-7493ec550e8c",
    "scrolled": false
   },
   "outputs": [
    {
     "data": {
      "application/vnd.plotly.v1+json": {
       "config": {
        "plotlyServerURL": "https://plot.ly"
       },
       "data": [
        {
         "hovertemplate": "rangoHora=%{x}<br># Mensajes por hora=%{y}<extra></extra>",
         "legendgroup": "",
         "line": {
          "color": "salmon",
          "dash": "solid"
         },
         "marker": {
          "size": 10,
          "symbol": "circle"
         },
         "mode": "markers+lines",
         "name": "",
         "orientation": "v",
         "showlegend": false,
         "type": "scatter",
         "x": [
          "00 - 01 h",
          "01 - 02 h",
          "02 - 03 h",
          "03 - 04 h",
          "04 - 05 h",
          "05 - 06 h",
          "06 - 07 h",
          "07 - 08 h",
          "08 - 09 h",
          "09 - 10 h",
          "10 - 11 h",
          "11 - 12 h",
          "12 - 13 h",
          "13 - 14 h",
          "14 - 15 h",
          "15 - 16 h",
          "16 - 17 h",
          "17 - 18 h",
          "18 - 19 h",
          "19 - 20 h",
          "20 - 21 h",
          "21 - 22 h",
          "22 - 23 h",
          "23 - 00 h"
         ],
         "xaxis": "x",
         "y": {
          "bdata": "EwiLAo0BVwGaAH4AvwFaBfQE1gVPB1gJCgxQEUwMmAszCb4GZAo9C24NbxFND6QL",
          "dtype": "i2"
         },
         "yaxis": "y"
        }
       ],
       "layout": {
        "font": {
         "size": 17
        },
        "legend": {
         "tracegroupgap": 0
        },
        "margin": {
         "t": 60
        },
        "template": {
         "data": {
          "bar": [
           {
            "error_x": {
             "color": "#f2f5fa"
            },
            "error_y": {
             "color": "#f2f5fa"
            },
            "marker": {
             "line": {
              "color": "rgb(17,17,17)",
              "width": 0.5
             },
             "pattern": {
              "fillmode": "overlay",
              "size": 10,
              "solidity": 0.2
             }
            },
            "type": "bar"
           }
          ],
          "barpolar": [
           {
            "marker": {
             "line": {
              "color": "rgb(17,17,17)",
              "width": 0.5
             },
             "pattern": {
              "fillmode": "overlay",
              "size": 10,
              "solidity": 0.2
             }
            },
            "type": "barpolar"
           }
          ],
          "carpet": [
           {
            "aaxis": {
             "endlinecolor": "#A2B1C6",
             "gridcolor": "#506784",
             "linecolor": "#506784",
             "minorgridcolor": "#506784",
             "startlinecolor": "#A2B1C6"
            },
            "baxis": {
             "endlinecolor": "#A2B1C6",
             "gridcolor": "#506784",
             "linecolor": "#506784",
             "minorgridcolor": "#506784",
             "startlinecolor": "#A2B1C6"
            },
            "type": "carpet"
           }
          ],
          "choropleth": [
           {
            "colorbar": {
             "outlinewidth": 0,
             "ticks": ""
            },
            "type": "choropleth"
           }
          ],
          "contour": [
           {
            "colorbar": {
             "outlinewidth": 0,
             "ticks": ""
            },
            "colorscale": [
             [
              0,
              "#0d0887"
             ],
             [
              0.1111111111111111,
              "#46039f"
             ],
             [
              0.2222222222222222,
              "#7201a8"
             ],
             [
              0.3333333333333333,
              "#9c179e"
             ],
             [
              0.4444444444444444,
              "#bd3786"
             ],
             [
              0.5555555555555556,
              "#d8576b"
             ],
             [
              0.6666666666666666,
              "#ed7953"
             ],
             [
              0.7777777777777778,
              "#fb9f3a"
             ],
             [
              0.8888888888888888,
              "#fdca26"
             ],
             [
              1,
              "#f0f921"
             ]
            ],
            "type": "contour"
           }
          ],
          "contourcarpet": [
           {
            "colorbar": {
             "outlinewidth": 0,
             "ticks": ""
            },
            "type": "contourcarpet"
           }
          ],
          "heatmap": [
           {
            "colorbar": {
             "outlinewidth": 0,
             "ticks": ""
            },
            "colorscale": [
             [
              0,
              "#0d0887"
             ],
             [
              0.1111111111111111,
              "#46039f"
             ],
             [
              0.2222222222222222,
              "#7201a8"
             ],
             [
              0.3333333333333333,
              "#9c179e"
             ],
             [
              0.4444444444444444,
              "#bd3786"
             ],
             [
              0.5555555555555556,
              "#d8576b"
             ],
             [
              0.6666666666666666,
              "#ed7953"
             ],
             [
              0.7777777777777778,
              "#fb9f3a"
             ],
             [
              0.8888888888888888,
              "#fdca26"
             ],
             [
              1,
              "#f0f921"
             ]
            ],
            "type": "heatmap"
           }
          ],
          "histogram": [
           {
            "marker": {
             "pattern": {
              "fillmode": "overlay",
              "size": 10,
              "solidity": 0.2
             }
            },
            "type": "histogram"
           }
          ],
          "histogram2d": [
           {
            "colorbar": {
             "outlinewidth": 0,
             "ticks": ""
            },
            "colorscale": [
             [
              0,
              "#0d0887"
             ],
             [
              0.1111111111111111,
              "#46039f"
             ],
             [
              0.2222222222222222,
              "#7201a8"
             ],
             [
              0.3333333333333333,
              "#9c179e"
             ],
             [
              0.4444444444444444,
              "#bd3786"
             ],
             [
              0.5555555555555556,
              "#d8576b"
             ],
             [
              0.6666666666666666,
              "#ed7953"
             ],
             [
              0.7777777777777778,
              "#fb9f3a"
             ],
             [
              0.8888888888888888,
              "#fdca26"
             ],
             [
              1,
              "#f0f921"
             ]
            ],
            "type": "histogram2d"
           }
          ],
          "histogram2dcontour": [
           {
            "colorbar": {
             "outlinewidth": 0,
             "ticks": ""
            },
            "colorscale": [
             [
              0,
              "#0d0887"
             ],
             [
              0.1111111111111111,
              "#46039f"
             ],
             [
              0.2222222222222222,
              "#7201a8"
             ],
             [
              0.3333333333333333,
              "#9c179e"
             ],
             [
              0.4444444444444444,
              "#bd3786"
             ],
             [
              0.5555555555555556,
              "#d8576b"
             ],
             [
              0.6666666666666666,
              "#ed7953"
             ],
             [
              0.7777777777777778,
              "#fb9f3a"
             ],
             [
              0.8888888888888888,
              "#fdca26"
             ],
             [
              1,
              "#f0f921"
             ]
            ],
            "type": "histogram2dcontour"
           }
          ],
          "mesh3d": [
           {
            "colorbar": {
             "outlinewidth": 0,
             "ticks": ""
            },
            "type": "mesh3d"
           }
          ],
          "parcoords": [
           {
            "line": {
             "colorbar": {
              "outlinewidth": 0,
              "ticks": ""
             }
            },
            "type": "parcoords"
           }
          ],
          "pie": [
           {
            "automargin": true,
            "type": "pie"
           }
          ],
          "scatter": [
           {
            "marker": {
             "line": {
              "color": "#283442"
             }
            },
            "type": "scatter"
           }
          ],
          "scatter3d": [
           {
            "line": {
             "colorbar": {
              "outlinewidth": 0,
              "ticks": ""
             }
            },
            "marker": {
             "colorbar": {
              "outlinewidth": 0,
              "ticks": ""
             }
            },
            "type": "scatter3d"
           }
          ],
          "scattercarpet": [
           {
            "marker": {
             "colorbar": {
              "outlinewidth": 0,
              "ticks": ""
             }
            },
            "type": "scattercarpet"
           }
          ],
          "scattergeo": [
           {
            "marker": {
             "colorbar": {
              "outlinewidth": 0,
              "ticks": ""
             }
            },
            "type": "scattergeo"
           }
          ],
          "scattergl": [
           {
            "marker": {
             "line": {
              "color": "#283442"
             }
            },
            "type": "scattergl"
           }
          ],
          "scattermap": [
           {
            "marker": {
             "colorbar": {
              "outlinewidth": 0,
              "ticks": ""
             }
            },
            "type": "scattermap"
           }
          ],
          "scattermapbox": [
           {
            "marker": {
             "colorbar": {
              "outlinewidth": 0,
              "ticks": ""
             }
            },
            "type": "scattermapbox"
           }
          ],
          "scatterpolar": [
           {
            "marker": {
             "colorbar": {
              "outlinewidth": 0,
              "ticks": ""
             }
            },
            "type": "scatterpolar"
           }
          ],
          "scatterpolargl": [
           {
            "marker": {
             "colorbar": {
              "outlinewidth": 0,
              "ticks": ""
             }
            },
            "type": "scatterpolargl"
           }
          ],
          "scatterternary": [
           {
            "marker": {
             "colorbar": {
              "outlinewidth": 0,
              "ticks": ""
             }
            },
            "type": "scatterternary"
           }
          ],
          "surface": [
           {
            "colorbar": {
             "outlinewidth": 0,
             "ticks": ""
            },
            "colorscale": [
             [
              0,
              "#0d0887"
             ],
             [
              0.1111111111111111,
              "#46039f"
             ],
             [
              0.2222222222222222,
              "#7201a8"
             ],
             [
              0.3333333333333333,
              "#9c179e"
             ],
             [
              0.4444444444444444,
              "#bd3786"
             ],
             [
              0.5555555555555556,
              "#d8576b"
             ],
             [
              0.6666666666666666,
              "#ed7953"
             ],
             [
              0.7777777777777778,
              "#fb9f3a"
             ],
             [
              0.8888888888888888,
              "#fdca26"
             ],
             [
              1,
              "#f0f921"
             ]
            ],
            "type": "surface"
           }
          ],
          "table": [
           {
            "cells": {
             "fill": {
              "color": "#506784"
             },
             "line": {
              "color": "rgb(17,17,17)"
             }
            },
            "header": {
             "fill": {
              "color": "#2a3f5f"
             },
             "line": {
              "color": "rgb(17,17,17)"
             }
            },
            "type": "table"
           }
          ]
         },
         "layout": {
          "annotationdefaults": {
           "arrowcolor": "#f2f5fa",
           "arrowhead": 0,
           "arrowwidth": 1
          },
          "autotypenumbers": "strict",
          "coloraxis": {
           "colorbar": {
            "outlinewidth": 0,
            "ticks": ""
           }
          },
          "colorscale": {
           "diverging": [
            [
             0,
             "#8e0152"
            ],
            [
             0.1,
             "#c51b7d"
            ],
            [
             0.2,
             "#de77ae"
            ],
            [
             0.3,
             "#f1b6da"
            ],
            [
             0.4,
             "#fde0ef"
            ],
            [
             0.5,
             "#f7f7f7"
            ],
            [
             0.6,
             "#e6f5d0"
            ],
            [
             0.7,
             "#b8e186"
            ],
            [
             0.8,
             "#7fbc41"
            ],
            [
             0.9,
             "#4d9221"
            ],
            [
             1,
             "#276419"
            ]
           ],
           "sequential": [
            [
             0,
             "#0d0887"
            ],
            [
             0.1111111111111111,
             "#46039f"
            ],
            [
             0.2222222222222222,
             "#7201a8"
            ],
            [
             0.3333333333333333,
             "#9c179e"
            ],
            [
             0.4444444444444444,
             "#bd3786"
            ],
            [
             0.5555555555555556,
             "#d8576b"
            ],
            [
             0.6666666666666666,
             "#ed7953"
            ],
            [
             0.7777777777777778,
             "#fb9f3a"
            ],
            [
             0.8888888888888888,
             "#fdca26"
            ],
            [
             1,
             "#f0f921"
            ]
           ],
           "sequentialminus": [
            [
             0,
             "#0d0887"
            ],
            [
             0.1111111111111111,
             "#46039f"
            ],
            [
             0.2222222222222222,
             "#7201a8"
            ],
            [
             0.3333333333333333,
             "#9c179e"
            ],
            [
             0.4444444444444444,
             "#bd3786"
            ],
            [
             0.5555555555555556,
             "#d8576b"
            ],
            [
             0.6666666666666666,
             "#ed7953"
            ],
            [
             0.7777777777777778,
             "#fb9f3a"
            ],
            [
             0.8888888888888888,
             "#fdca26"
            ],
            [
             1,
             "#f0f921"
            ]
           ]
          },
          "colorway": [
           "#636efa",
           "#EF553B",
           "#00cc96",
           "#ab63fa",
           "#FFA15A",
           "#19d3f3",
           "#FF6692",
           "#B6E880",
           "#FF97FF",
           "#FECB52"
          ],
          "font": {
           "color": "#f2f5fa"
          },
          "geo": {
           "bgcolor": "rgb(17,17,17)",
           "lakecolor": "rgb(17,17,17)",
           "landcolor": "rgb(17,17,17)",
           "showlakes": true,
           "showland": true,
           "subunitcolor": "#506784"
          },
          "hoverlabel": {
           "align": "left"
          },
          "hovermode": "closest",
          "mapbox": {
           "style": "dark"
          },
          "paper_bgcolor": "rgb(17,17,17)",
          "plot_bgcolor": "rgb(17,17,17)",
          "polar": {
           "angularaxis": {
            "gridcolor": "#506784",
            "linecolor": "#506784",
            "ticks": ""
           },
           "bgcolor": "rgb(17,17,17)",
           "radialaxis": {
            "gridcolor": "#506784",
            "linecolor": "#506784",
            "ticks": ""
           }
          },
          "scene": {
           "xaxis": {
            "backgroundcolor": "rgb(17,17,17)",
            "gridcolor": "#506784",
            "gridwidth": 2,
            "linecolor": "#506784",
            "showbackground": true,
            "ticks": "",
            "zerolinecolor": "#C8D4E3"
           },
           "yaxis": {
            "backgroundcolor": "rgb(17,17,17)",
            "gridcolor": "#506784",
            "gridwidth": 2,
            "linecolor": "#506784",
            "showbackground": true,
            "ticks": "",
            "zerolinecolor": "#C8D4E3"
           },
           "zaxis": {
            "backgroundcolor": "rgb(17,17,17)",
            "gridcolor": "#506784",
            "gridwidth": 2,
            "linecolor": "#506784",
            "showbackground": true,
            "ticks": "",
            "zerolinecolor": "#C8D4E3"
           }
          },
          "shapedefaults": {
           "line": {
            "color": "#f2f5fa"
           }
          },
          "sliderdefaults": {
           "bgcolor": "#C8D4E3",
           "bordercolor": "rgb(17,17,17)",
           "borderwidth": 1,
           "tickwidth": 0
          },
          "ternary": {
           "aaxis": {
            "gridcolor": "#506784",
            "linecolor": "#506784",
            "ticks": ""
           },
           "baxis": {
            "gridcolor": "#506784",
            "linecolor": "#506784",
            "ticks": ""
           },
           "bgcolor": "rgb(17,17,17)",
           "caxis": {
            "gridcolor": "#506784",
            "linecolor": "#506784",
            "ticks": ""
           }
          },
          "title": {
           "x": 0.05
          },
          "updatemenudefaults": {
           "bgcolor": "#506784",
           "borderwidth": 0
          },
          "xaxis": {
           "automargin": true,
           "gridcolor": "#283442",
           "linecolor": "#506784",
           "ticks": "",
           "title": {
            "standoff": 15
           },
           "zerolinecolor": "#283442",
           "zerolinewidth": 2
          },
          "yaxis": {
           "automargin": true,
           "gridcolor": "#283442",
           "linecolor": "#506784",
           "ticks": "",
           "title": {
            "standoff": 15
           },
           "zerolinecolor": "#283442",
           "zerolinewidth": 2
          }
         }
        },
        "title": {
         "text": "Mensajes con ella ❤️ por hora",
         "x": 0.5,
         "xanchor": "center",
         "y": 0.96
        },
        "xaxis": {
         "anchor": "y",
         "domain": [
          0,
          1
         ],
         "tickangle": 30,
         "title": {
          "text": "Rango de hora"
         }
        },
        "yaxis": {
         "anchor": "x",
         "domain": [
          0,
          1
         ],
         "title": {
          "text": "# Mensajes"
         }
        }
       }
      }
     },
     "metadata": {},
     "output_type": "display_data"
    }
   ],
   "source": [
    "# Crear una columna de 1 para realizar el conteo de mensajes\n",
    "df['# Mensajes por hora'] = 1\n",
    "\n",
    "# Sumar (contar) los mensajes que tengan la misma fecha\n",
    "mensajes_hora = df.groupby('rangoHora').count().reset_index()\n",
    "\n",
    "# Plotear la cantidad de mensajes respecto del tiempo\n",
    "fig = px.line(mensajes_hora, x='rangoHora', y='# Mensajes por hora', color_discrete_sequence=['salmon'], template='plotly_dark')\n",
    "\n",
    "# Ajustar el gráfico\n",
    "fig.update_layout(\n",
    "    title={'text': 'Mensajes con ella ❤️ por hora', 'y':0.96, 'x':0.5, 'xanchor': 'center'},\n",
    "    font=dict(size=17))\n",
    "fig.update_traces(mode='markers+lines', marker=dict(size=10))\n",
    "fig.update_xaxes(title_text='Rango de hora', tickangle=30)\n",
    "fig.update_yaxes(title_text='# Mensajes')\n",
    "fig.show()"
   ]
  },
  {
   "cell_type": "markdown",
   "metadata": {},
   "source": [
    "#### Número de mensajes por día"
   ]
  },
  {
   "cell_type": "code",
   "execution_count": 44,
   "metadata": {},
   "outputs": [
    {
     "data": {
      "application/vnd.plotly.v1+json": {
       "config": {
        "plotlyServerURL": "https://plot.ly"
       },
       "data": [
        {
         "hovertemplate": "DiaSemana=%{x}<br># Mensajes por día=%{y}<extra></extra>",
         "legendgroup": "",
         "line": {
          "color": "salmon",
          "dash": "solid"
         },
         "marker": {
          "size": 10,
          "symbol": "circle"
         },
         "mode": "markers+lines",
         "name": "",
         "orientation": "v",
         "showlegend": false,
         "type": "scatter",
         "x": [
          "Friday",
          "Monday",
          "Saturday",
          "Sunday",
          "Thursday",
          "Tuesday",
          "Wednesday"
         ],
         "xaxis": "x",
         "y": {
          "bdata": "lRgjHpMX4RxrIEkd4hw=",
          "dtype": "i2"
         },
         "yaxis": "y"
        }
       ],
       "layout": {
        "font": {
         "size": 17
        },
        "legend": {
         "tracegroupgap": 0
        },
        "margin": {
         "t": 60
        },
        "template": {
         "data": {
          "bar": [
           {
            "error_x": {
             "color": "#f2f5fa"
            },
            "error_y": {
             "color": "#f2f5fa"
            },
            "marker": {
             "line": {
              "color": "rgb(17,17,17)",
              "width": 0.5
             },
             "pattern": {
              "fillmode": "overlay",
              "size": 10,
              "solidity": 0.2
             }
            },
            "type": "bar"
           }
          ],
          "barpolar": [
           {
            "marker": {
             "line": {
              "color": "rgb(17,17,17)",
              "width": 0.5
             },
             "pattern": {
              "fillmode": "overlay",
              "size": 10,
              "solidity": 0.2
             }
            },
            "type": "barpolar"
           }
          ],
          "carpet": [
           {
            "aaxis": {
             "endlinecolor": "#A2B1C6",
             "gridcolor": "#506784",
             "linecolor": "#506784",
             "minorgridcolor": "#506784",
             "startlinecolor": "#A2B1C6"
            },
            "baxis": {
             "endlinecolor": "#A2B1C6",
             "gridcolor": "#506784",
             "linecolor": "#506784",
             "minorgridcolor": "#506784",
             "startlinecolor": "#A2B1C6"
            },
            "type": "carpet"
           }
          ],
          "choropleth": [
           {
            "colorbar": {
             "outlinewidth": 0,
             "ticks": ""
            },
            "type": "choropleth"
           }
          ],
          "contour": [
           {
            "colorbar": {
             "outlinewidth": 0,
             "ticks": ""
            },
            "colorscale": [
             [
              0,
              "#0d0887"
             ],
             [
              0.1111111111111111,
              "#46039f"
             ],
             [
              0.2222222222222222,
              "#7201a8"
             ],
             [
              0.3333333333333333,
              "#9c179e"
             ],
             [
              0.4444444444444444,
              "#bd3786"
             ],
             [
              0.5555555555555556,
              "#d8576b"
             ],
             [
              0.6666666666666666,
              "#ed7953"
             ],
             [
              0.7777777777777778,
              "#fb9f3a"
             ],
             [
              0.8888888888888888,
              "#fdca26"
             ],
             [
              1,
              "#f0f921"
             ]
            ],
            "type": "contour"
           }
          ],
          "contourcarpet": [
           {
            "colorbar": {
             "outlinewidth": 0,
             "ticks": ""
            },
            "type": "contourcarpet"
           }
          ],
          "heatmap": [
           {
            "colorbar": {
             "outlinewidth": 0,
             "ticks": ""
            },
            "colorscale": [
             [
              0,
              "#0d0887"
             ],
             [
              0.1111111111111111,
              "#46039f"
             ],
             [
              0.2222222222222222,
              "#7201a8"
             ],
             [
              0.3333333333333333,
              "#9c179e"
             ],
             [
              0.4444444444444444,
              "#bd3786"
             ],
             [
              0.5555555555555556,
              "#d8576b"
             ],
             [
              0.6666666666666666,
              "#ed7953"
             ],
             [
              0.7777777777777778,
              "#fb9f3a"
             ],
             [
              0.8888888888888888,
              "#fdca26"
             ],
             [
              1,
              "#f0f921"
             ]
            ],
            "type": "heatmap"
           }
          ],
          "histogram": [
           {
            "marker": {
             "pattern": {
              "fillmode": "overlay",
              "size": 10,
              "solidity": 0.2
             }
            },
            "type": "histogram"
           }
          ],
          "histogram2d": [
           {
            "colorbar": {
             "outlinewidth": 0,
             "ticks": ""
            },
            "colorscale": [
             [
              0,
              "#0d0887"
             ],
             [
              0.1111111111111111,
              "#46039f"
             ],
             [
              0.2222222222222222,
              "#7201a8"
             ],
             [
              0.3333333333333333,
              "#9c179e"
             ],
             [
              0.4444444444444444,
              "#bd3786"
             ],
             [
              0.5555555555555556,
              "#d8576b"
             ],
             [
              0.6666666666666666,
              "#ed7953"
             ],
             [
              0.7777777777777778,
              "#fb9f3a"
             ],
             [
              0.8888888888888888,
              "#fdca26"
             ],
             [
              1,
              "#f0f921"
             ]
            ],
            "type": "histogram2d"
           }
          ],
          "histogram2dcontour": [
           {
            "colorbar": {
             "outlinewidth": 0,
             "ticks": ""
            },
            "colorscale": [
             [
              0,
              "#0d0887"
             ],
             [
              0.1111111111111111,
              "#46039f"
             ],
             [
              0.2222222222222222,
              "#7201a8"
             ],
             [
              0.3333333333333333,
              "#9c179e"
             ],
             [
              0.4444444444444444,
              "#bd3786"
             ],
             [
              0.5555555555555556,
              "#d8576b"
             ],
             [
              0.6666666666666666,
              "#ed7953"
             ],
             [
              0.7777777777777778,
              "#fb9f3a"
             ],
             [
              0.8888888888888888,
              "#fdca26"
             ],
             [
              1,
              "#f0f921"
             ]
            ],
            "type": "histogram2dcontour"
           }
          ],
          "mesh3d": [
           {
            "colorbar": {
             "outlinewidth": 0,
             "ticks": ""
            },
            "type": "mesh3d"
           }
          ],
          "parcoords": [
           {
            "line": {
             "colorbar": {
              "outlinewidth": 0,
              "ticks": ""
             }
            },
            "type": "parcoords"
           }
          ],
          "pie": [
           {
            "automargin": true,
            "type": "pie"
           }
          ],
          "scatter": [
           {
            "marker": {
             "line": {
              "color": "#283442"
             }
            },
            "type": "scatter"
           }
          ],
          "scatter3d": [
           {
            "line": {
             "colorbar": {
              "outlinewidth": 0,
              "ticks": ""
             }
            },
            "marker": {
             "colorbar": {
              "outlinewidth": 0,
              "ticks": ""
             }
            },
            "type": "scatter3d"
           }
          ],
          "scattercarpet": [
           {
            "marker": {
             "colorbar": {
              "outlinewidth": 0,
              "ticks": ""
             }
            },
            "type": "scattercarpet"
           }
          ],
          "scattergeo": [
           {
            "marker": {
             "colorbar": {
              "outlinewidth": 0,
              "ticks": ""
             }
            },
            "type": "scattergeo"
           }
          ],
          "scattergl": [
           {
            "marker": {
             "line": {
              "color": "#283442"
             }
            },
            "type": "scattergl"
           }
          ],
          "scattermap": [
           {
            "marker": {
             "colorbar": {
              "outlinewidth": 0,
              "ticks": ""
             }
            },
            "type": "scattermap"
           }
          ],
          "scattermapbox": [
           {
            "marker": {
             "colorbar": {
              "outlinewidth": 0,
              "ticks": ""
             }
            },
            "type": "scattermapbox"
           }
          ],
          "scatterpolar": [
           {
            "marker": {
             "colorbar": {
              "outlinewidth": 0,
              "ticks": ""
             }
            },
            "type": "scatterpolar"
           }
          ],
          "scatterpolargl": [
           {
            "marker": {
             "colorbar": {
              "outlinewidth": 0,
              "ticks": ""
             }
            },
            "type": "scatterpolargl"
           }
          ],
          "scatterternary": [
           {
            "marker": {
             "colorbar": {
              "outlinewidth": 0,
              "ticks": ""
             }
            },
            "type": "scatterternary"
           }
          ],
          "surface": [
           {
            "colorbar": {
             "outlinewidth": 0,
             "ticks": ""
            },
            "colorscale": [
             [
              0,
              "#0d0887"
             ],
             [
              0.1111111111111111,
              "#46039f"
             ],
             [
              0.2222222222222222,
              "#7201a8"
             ],
             [
              0.3333333333333333,
              "#9c179e"
             ],
             [
              0.4444444444444444,
              "#bd3786"
             ],
             [
              0.5555555555555556,
              "#d8576b"
             ],
             [
              0.6666666666666666,
              "#ed7953"
             ],
             [
              0.7777777777777778,
              "#fb9f3a"
             ],
             [
              0.8888888888888888,
              "#fdca26"
             ],
             [
              1,
              "#f0f921"
             ]
            ],
            "type": "surface"
           }
          ],
          "table": [
           {
            "cells": {
             "fill": {
              "color": "#506784"
             },
             "line": {
              "color": "rgb(17,17,17)"
             }
            },
            "header": {
             "fill": {
              "color": "#2a3f5f"
             },
             "line": {
              "color": "rgb(17,17,17)"
             }
            },
            "type": "table"
           }
          ]
         },
         "layout": {
          "annotationdefaults": {
           "arrowcolor": "#f2f5fa",
           "arrowhead": 0,
           "arrowwidth": 1
          },
          "autotypenumbers": "strict",
          "coloraxis": {
           "colorbar": {
            "outlinewidth": 0,
            "ticks": ""
           }
          },
          "colorscale": {
           "diverging": [
            [
             0,
             "#8e0152"
            ],
            [
             0.1,
             "#c51b7d"
            ],
            [
             0.2,
             "#de77ae"
            ],
            [
             0.3,
             "#f1b6da"
            ],
            [
             0.4,
             "#fde0ef"
            ],
            [
             0.5,
             "#f7f7f7"
            ],
            [
             0.6,
             "#e6f5d0"
            ],
            [
             0.7,
             "#b8e186"
            ],
            [
             0.8,
             "#7fbc41"
            ],
            [
             0.9,
             "#4d9221"
            ],
            [
             1,
             "#276419"
            ]
           ],
           "sequential": [
            [
             0,
             "#0d0887"
            ],
            [
             0.1111111111111111,
             "#46039f"
            ],
            [
             0.2222222222222222,
             "#7201a8"
            ],
            [
             0.3333333333333333,
             "#9c179e"
            ],
            [
             0.4444444444444444,
             "#bd3786"
            ],
            [
             0.5555555555555556,
             "#d8576b"
            ],
            [
             0.6666666666666666,
             "#ed7953"
            ],
            [
             0.7777777777777778,
             "#fb9f3a"
            ],
            [
             0.8888888888888888,
             "#fdca26"
            ],
            [
             1,
             "#f0f921"
            ]
           ],
           "sequentialminus": [
            [
             0,
             "#0d0887"
            ],
            [
             0.1111111111111111,
             "#46039f"
            ],
            [
             0.2222222222222222,
             "#7201a8"
            ],
            [
             0.3333333333333333,
             "#9c179e"
            ],
            [
             0.4444444444444444,
             "#bd3786"
            ],
            [
             0.5555555555555556,
             "#d8576b"
            ],
            [
             0.6666666666666666,
             "#ed7953"
            ],
            [
             0.7777777777777778,
             "#fb9f3a"
            ],
            [
             0.8888888888888888,
             "#fdca26"
            ],
            [
             1,
             "#f0f921"
            ]
           ]
          },
          "colorway": [
           "#636efa",
           "#EF553B",
           "#00cc96",
           "#ab63fa",
           "#FFA15A",
           "#19d3f3",
           "#FF6692",
           "#B6E880",
           "#FF97FF",
           "#FECB52"
          ],
          "font": {
           "color": "#f2f5fa"
          },
          "geo": {
           "bgcolor": "rgb(17,17,17)",
           "lakecolor": "rgb(17,17,17)",
           "landcolor": "rgb(17,17,17)",
           "showlakes": true,
           "showland": true,
           "subunitcolor": "#506784"
          },
          "hoverlabel": {
           "align": "left"
          },
          "hovermode": "closest",
          "mapbox": {
           "style": "dark"
          },
          "paper_bgcolor": "rgb(17,17,17)",
          "plot_bgcolor": "rgb(17,17,17)",
          "polar": {
           "angularaxis": {
            "gridcolor": "#506784",
            "linecolor": "#506784",
            "ticks": ""
           },
           "bgcolor": "rgb(17,17,17)",
           "radialaxis": {
            "gridcolor": "#506784",
            "linecolor": "#506784",
            "ticks": ""
           }
          },
          "scene": {
           "xaxis": {
            "backgroundcolor": "rgb(17,17,17)",
            "gridcolor": "#506784",
            "gridwidth": 2,
            "linecolor": "#506784",
            "showbackground": true,
            "ticks": "",
            "zerolinecolor": "#C8D4E3"
           },
           "yaxis": {
            "backgroundcolor": "rgb(17,17,17)",
            "gridcolor": "#506784",
            "gridwidth": 2,
            "linecolor": "#506784",
            "showbackground": true,
            "ticks": "",
            "zerolinecolor": "#C8D4E3"
           },
           "zaxis": {
            "backgroundcolor": "rgb(17,17,17)",
            "gridcolor": "#506784",
            "gridwidth": 2,
            "linecolor": "#506784",
            "showbackground": true,
            "ticks": "",
            "zerolinecolor": "#C8D4E3"
           }
          },
          "shapedefaults": {
           "line": {
            "color": "#f2f5fa"
           }
          },
          "sliderdefaults": {
           "bgcolor": "#C8D4E3",
           "bordercolor": "rgb(17,17,17)",
           "borderwidth": 1,
           "tickwidth": 0
          },
          "ternary": {
           "aaxis": {
            "gridcolor": "#506784",
            "linecolor": "#506784",
            "ticks": ""
           },
           "baxis": {
            "gridcolor": "#506784",
            "linecolor": "#506784",
            "ticks": ""
           },
           "bgcolor": "rgb(17,17,17)",
           "caxis": {
            "gridcolor": "#506784",
            "linecolor": "#506784",
            "ticks": ""
           }
          },
          "title": {
           "x": 0.05
          },
          "updatemenudefaults": {
           "bgcolor": "#506784",
           "borderwidth": 0
          },
          "xaxis": {
           "automargin": true,
           "gridcolor": "#283442",
           "linecolor": "#506784",
           "ticks": "",
           "title": {
            "standoff": 15
           },
           "zerolinecolor": "#283442",
           "zerolinewidth": 2
          },
          "yaxis": {
           "automargin": true,
           "gridcolor": "#283442",
           "linecolor": "#506784",
           "ticks": "",
           "title": {
            "standoff": 15
           },
           "zerolinecolor": "#283442",
           "zerolinewidth": 2
          }
         }
        },
        "title": {
         "text": "Mensajes con ella ❤️ por día",
         "x": 0.5,
         "xanchor": "center",
         "y": 0.96
        },
        "xaxis": {
         "anchor": "y",
         "domain": [
          0,
          1
         ],
         "tickangle": 30,
         "title": {
          "text": "Día"
         }
        },
        "yaxis": {
         "anchor": "x",
         "domain": [
          0,
          1
         ],
         "title": {
          "text": "# Mensajes"
         }
        }
       }
      }
     },
     "metadata": {},
     "output_type": "display_data"
    }
   ],
   "source": [
    "# Crear una columna de 1 para realizar el conteo de mensajes\n",
    "df['# Mensajes por día'] = 1\n",
    "\n",
    "# Sumar (contar) los mensajes que tengan la misma fecha\n",
    "date_df = df.groupby('DiaSemana').count().reset_index()\n",
    "\n",
    "\n",
    "# Plotear la cantidad de mensajes respecto del tiempo\n",
    "fig = px.line(date_df, x='DiaSemana', y='# Mensajes por día', color_discrete_sequence=['salmon'], template='plotly_dark')\n",
    "\n",
    "# Ajustar el gráfico\n",
    "fig.update_layout(\n",
    "    title={'text': 'Mensajes con ella ❤️ por día', 'y':0.96, 'x':0.5, 'xanchor': 'center'},\n",
    "    font=dict(size=17))\n",
    "fig.update_traces(mode='markers+lines', marker=dict(size=10))\n",
    "fig.update_xaxes(title_text='Día', tickangle=30)\n",
    "fig.update_yaxes(title_text='# Mensajes')\n",
    "fig.show()"
   ]
  },
  {
   "cell_type": "markdown",
   "metadata": {},
   "source": [
    "#### Número de mensajes a través del tiempo"
   ]
  },
  {
   "cell_type": "code",
   "execution_count": 47,
   "metadata": {},
   "outputs": [
    {
     "data": {
      "application/vnd.plotly.v1+json": {
       "config": {
        "plotlyServerURL": "https://plot.ly"
       },
       "data": [
        {
         "hovertemplate": "Fecha=%{x}<br># Mensajes por día=%{y}<extra></extra>",
         "legendgroup": "",
         "line": {
          "color": "salmon",
          "dash": "solid"
         },
         "marker": {
          "symbol": "circle"
         },
         "mode": "lines",
         "name": "",
         "orientation": "v",
         "showlegend": false,
         "type": "scatter",
         "x": [
          "2025-06-04",
          "2025-06-05",
          "2025-06-06",
          "2025-06-07",
          "2025-06-08",
          "2025-06-09",
          "2025-06-10",
          "2025-06-11",
          "2025-06-12",
          "2025-06-13",
          "2025-06-14",
          "2025-06-15",
          "2025-06-16",
          "2025-06-17",
          "2025-06-18",
          "2025-06-19",
          "2025-06-20",
          "2025-06-21",
          "2025-06-22",
          "2025-06-23",
          "2025-06-24",
          "2025-06-25",
          "2025-06-26",
          "2025-06-27",
          "2025-06-28",
          "2025-06-29",
          "2025-06-30",
          "2025-07-01",
          "2025-07-02",
          "2025-07-03",
          "2025-07-04",
          "2025-07-05",
          "2025-07-06",
          "2025-07-07",
          "2025-07-08",
          "2025-07-09",
          "2025-07-10",
          "2025-07-11",
          "2025-07-12",
          "2025-07-13",
          "2025-07-14",
          "2025-07-15",
          "2025-07-16",
          "2025-07-17",
          "2025-07-18",
          "2025-07-19",
          "2025-07-20",
          "2025-07-21",
          "2025-07-22",
          "2025-07-23"
         ],
         "xaxis": "x",
         "y": {
          "bdata": "ZwK3BAUDYQN0BIQCRwPZBHoDRgOgA5sEQAYzBdkECgYQB24EEAZiBI4EhgIKBb0CqwLMBYYDcAIoBcAELgMCAj4DoAOeBD4DHAPzAo4DBgM+BkQEPgVKBVwC6QOyAZkD7wSfAA==",
          "dtype": "i2"
         },
         "yaxis": "y"
        }
       ],
       "layout": {
        "font": {
         "size": 17
        },
        "legend": {
         "tracegroupgap": 0
        },
        "margin": {
         "t": 60
        },
        "template": {
         "data": {
          "bar": [
           {
            "error_x": {
             "color": "#f2f5fa"
            },
            "error_y": {
             "color": "#f2f5fa"
            },
            "marker": {
             "line": {
              "color": "rgb(17,17,17)",
              "width": 0.5
             },
             "pattern": {
              "fillmode": "overlay",
              "size": 10,
              "solidity": 0.2
             }
            },
            "type": "bar"
           }
          ],
          "barpolar": [
           {
            "marker": {
             "line": {
              "color": "rgb(17,17,17)",
              "width": 0.5
             },
             "pattern": {
              "fillmode": "overlay",
              "size": 10,
              "solidity": 0.2
             }
            },
            "type": "barpolar"
           }
          ],
          "carpet": [
           {
            "aaxis": {
             "endlinecolor": "#A2B1C6",
             "gridcolor": "#506784",
             "linecolor": "#506784",
             "minorgridcolor": "#506784",
             "startlinecolor": "#A2B1C6"
            },
            "baxis": {
             "endlinecolor": "#A2B1C6",
             "gridcolor": "#506784",
             "linecolor": "#506784",
             "minorgridcolor": "#506784",
             "startlinecolor": "#A2B1C6"
            },
            "type": "carpet"
           }
          ],
          "choropleth": [
           {
            "colorbar": {
             "outlinewidth": 0,
             "ticks": ""
            },
            "type": "choropleth"
           }
          ],
          "contour": [
           {
            "colorbar": {
             "outlinewidth": 0,
             "ticks": ""
            },
            "colorscale": [
             [
              0,
              "#0d0887"
             ],
             [
              0.1111111111111111,
              "#46039f"
             ],
             [
              0.2222222222222222,
              "#7201a8"
             ],
             [
              0.3333333333333333,
              "#9c179e"
             ],
             [
              0.4444444444444444,
              "#bd3786"
             ],
             [
              0.5555555555555556,
              "#d8576b"
             ],
             [
              0.6666666666666666,
              "#ed7953"
             ],
             [
              0.7777777777777778,
              "#fb9f3a"
             ],
             [
              0.8888888888888888,
              "#fdca26"
             ],
             [
              1,
              "#f0f921"
             ]
            ],
            "type": "contour"
           }
          ],
          "contourcarpet": [
           {
            "colorbar": {
             "outlinewidth": 0,
             "ticks": ""
            },
            "type": "contourcarpet"
           }
          ],
          "heatmap": [
           {
            "colorbar": {
             "outlinewidth": 0,
             "ticks": ""
            },
            "colorscale": [
             [
              0,
              "#0d0887"
             ],
             [
              0.1111111111111111,
              "#46039f"
             ],
             [
              0.2222222222222222,
              "#7201a8"
             ],
             [
              0.3333333333333333,
              "#9c179e"
             ],
             [
              0.4444444444444444,
              "#bd3786"
             ],
             [
              0.5555555555555556,
              "#d8576b"
             ],
             [
              0.6666666666666666,
              "#ed7953"
             ],
             [
              0.7777777777777778,
              "#fb9f3a"
             ],
             [
              0.8888888888888888,
              "#fdca26"
             ],
             [
              1,
              "#f0f921"
             ]
            ],
            "type": "heatmap"
           }
          ],
          "histogram": [
           {
            "marker": {
             "pattern": {
              "fillmode": "overlay",
              "size": 10,
              "solidity": 0.2
             }
            },
            "type": "histogram"
           }
          ],
          "histogram2d": [
           {
            "colorbar": {
             "outlinewidth": 0,
             "ticks": ""
            },
            "colorscale": [
             [
              0,
              "#0d0887"
             ],
             [
              0.1111111111111111,
              "#46039f"
             ],
             [
              0.2222222222222222,
              "#7201a8"
             ],
             [
              0.3333333333333333,
              "#9c179e"
             ],
             [
              0.4444444444444444,
              "#bd3786"
             ],
             [
              0.5555555555555556,
              "#d8576b"
             ],
             [
              0.6666666666666666,
              "#ed7953"
             ],
             [
              0.7777777777777778,
              "#fb9f3a"
             ],
             [
              0.8888888888888888,
              "#fdca26"
             ],
             [
              1,
              "#f0f921"
             ]
            ],
            "type": "histogram2d"
           }
          ],
          "histogram2dcontour": [
           {
            "colorbar": {
             "outlinewidth": 0,
             "ticks": ""
            },
            "colorscale": [
             [
              0,
              "#0d0887"
             ],
             [
              0.1111111111111111,
              "#46039f"
             ],
             [
              0.2222222222222222,
              "#7201a8"
             ],
             [
              0.3333333333333333,
              "#9c179e"
             ],
             [
              0.4444444444444444,
              "#bd3786"
             ],
             [
              0.5555555555555556,
              "#d8576b"
             ],
             [
              0.6666666666666666,
              "#ed7953"
             ],
             [
              0.7777777777777778,
              "#fb9f3a"
             ],
             [
              0.8888888888888888,
              "#fdca26"
             ],
             [
              1,
              "#f0f921"
             ]
            ],
            "type": "histogram2dcontour"
           }
          ],
          "mesh3d": [
           {
            "colorbar": {
             "outlinewidth": 0,
             "ticks": ""
            },
            "type": "mesh3d"
           }
          ],
          "parcoords": [
           {
            "line": {
             "colorbar": {
              "outlinewidth": 0,
              "ticks": ""
             }
            },
            "type": "parcoords"
           }
          ],
          "pie": [
           {
            "automargin": true,
            "type": "pie"
           }
          ],
          "scatter": [
           {
            "marker": {
             "line": {
              "color": "#283442"
             }
            },
            "type": "scatter"
           }
          ],
          "scatter3d": [
           {
            "line": {
             "colorbar": {
              "outlinewidth": 0,
              "ticks": ""
             }
            },
            "marker": {
             "colorbar": {
              "outlinewidth": 0,
              "ticks": ""
             }
            },
            "type": "scatter3d"
           }
          ],
          "scattercarpet": [
           {
            "marker": {
             "colorbar": {
              "outlinewidth": 0,
              "ticks": ""
             }
            },
            "type": "scattercarpet"
           }
          ],
          "scattergeo": [
           {
            "marker": {
             "colorbar": {
              "outlinewidth": 0,
              "ticks": ""
             }
            },
            "type": "scattergeo"
           }
          ],
          "scattergl": [
           {
            "marker": {
             "line": {
              "color": "#283442"
             }
            },
            "type": "scattergl"
           }
          ],
          "scattermap": [
           {
            "marker": {
             "colorbar": {
              "outlinewidth": 0,
              "ticks": ""
             }
            },
            "type": "scattermap"
           }
          ],
          "scattermapbox": [
           {
            "marker": {
             "colorbar": {
              "outlinewidth": 0,
              "ticks": ""
             }
            },
            "type": "scattermapbox"
           }
          ],
          "scatterpolar": [
           {
            "marker": {
             "colorbar": {
              "outlinewidth": 0,
              "ticks": ""
             }
            },
            "type": "scatterpolar"
           }
          ],
          "scatterpolargl": [
           {
            "marker": {
             "colorbar": {
              "outlinewidth": 0,
              "ticks": ""
             }
            },
            "type": "scatterpolargl"
           }
          ],
          "scatterternary": [
           {
            "marker": {
             "colorbar": {
              "outlinewidth": 0,
              "ticks": ""
             }
            },
            "type": "scatterternary"
           }
          ],
          "surface": [
           {
            "colorbar": {
             "outlinewidth": 0,
             "ticks": ""
            },
            "colorscale": [
             [
              0,
              "#0d0887"
             ],
             [
              0.1111111111111111,
              "#46039f"
             ],
             [
              0.2222222222222222,
              "#7201a8"
             ],
             [
              0.3333333333333333,
              "#9c179e"
             ],
             [
              0.4444444444444444,
              "#bd3786"
             ],
             [
              0.5555555555555556,
              "#d8576b"
             ],
             [
              0.6666666666666666,
              "#ed7953"
             ],
             [
              0.7777777777777778,
              "#fb9f3a"
             ],
             [
              0.8888888888888888,
              "#fdca26"
             ],
             [
              1,
              "#f0f921"
             ]
            ],
            "type": "surface"
           }
          ],
          "table": [
           {
            "cells": {
             "fill": {
              "color": "#506784"
             },
             "line": {
              "color": "rgb(17,17,17)"
             }
            },
            "header": {
             "fill": {
              "color": "#2a3f5f"
             },
             "line": {
              "color": "rgb(17,17,17)"
             }
            },
            "type": "table"
           }
          ]
         },
         "layout": {
          "annotationdefaults": {
           "arrowcolor": "#f2f5fa",
           "arrowhead": 0,
           "arrowwidth": 1
          },
          "autotypenumbers": "strict",
          "coloraxis": {
           "colorbar": {
            "outlinewidth": 0,
            "ticks": ""
           }
          },
          "colorscale": {
           "diverging": [
            [
             0,
             "#8e0152"
            ],
            [
             0.1,
             "#c51b7d"
            ],
            [
             0.2,
             "#de77ae"
            ],
            [
             0.3,
             "#f1b6da"
            ],
            [
             0.4,
             "#fde0ef"
            ],
            [
             0.5,
             "#f7f7f7"
            ],
            [
             0.6,
             "#e6f5d0"
            ],
            [
             0.7,
             "#b8e186"
            ],
            [
             0.8,
             "#7fbc41"
            ],
            [
             0.9,
             "#4d9221"
            ],
            [
             1,
             "#276419"
            ]
           ],
           "sequential": [
            [
             0,
             "#0d0887"
            ],
            [
             0.1111111111111111,
             "#46039f"
            ],
            [
             0.2222222222222222,
             "#7201a8"
            ],
            [
             0.3333333333333333,
             "#9c179e"
            ],
            [
             0.4444444444444444,
             "#bd3786"
            ],
            [
             0.5555555555555556,
             "#d8576b"
            ],
            [
             0.6666666666666666,
             "#ed7953"
            ],
            [
             0.7777777777777778,
             "#fb9f3a"
            ],
            [
             0.8888888888888888,
             "#fdca26"
            ],
            [
             1,
             "#f0f921"
            ]
           ],
           "sequentialminus": [
            [
             0,
             "#0d0887"
            ],
            [
             0.1111111111111111,
             "#46039f"
            ],
            [
             0.2222222222222222,
             "#7201a8"
            ],
            [
             0.3333333333333333,
             "#9c179e"
            ],
            [
             0.4444444444444444,
             "#bd3786"
            ],
            [
             0.5555555555555556,
             "#d8576b"
            ],
            [
             0.6666666666666666,
             "#ed7953"
            ],
            [
             0.7777777777777778,
             "#fb9f3a"
            ],
            [
             0.8888888888888888,
             "#fdca26"
            ],
            [
             1,
             "#f0f921"
            ]
           ]
          },
          "colorway": [
           "#636efa",
           "#EF553B",
           "#00cc96",
           "#ab63fa",
           "#FFA15A",
           "#19d3f3",
           "#FF6692",
           "#B6E880",
           "#FF97FF",
           "#FECB52"
          ],
          "font": {
           "color": "#f2f5fa"
          },
          "geo": {
           "bgcolor": "rgb(17,17,17)",
           "lakecolor": "rgb(17,17,17)",
           "landcolor": "rgb(17,17,17)",
           "showlakes": true,
           "showland": true,
           "subunitcolor": "#506784"
          },
          "hoverlabel": {
           "align": "left"
          },
          "hovermode": "closest",
          "mapbox": {
           "style": "dark"
          },
          "paper_bgcolor": "rgb(17,17,17)",
          "plot_bgcolor": "rgb(17,17,17)",
          "polar": {
           "angularaxis": {
            "gridcolor": "#506784",
            "linecolor": "#506784",
            "ticks": ""
           },
           "bgcolor": "rgb(17,17,17)",
           "radialaxis": {
            "gridcolor": "#506784",
            "linecolor": "#506784",
            "ticks": ""
           }
          },
          "scene": {
           "xaxis": {
            "backgroundcolor": "rgb(17,17,17)",
            "gridcolor": "#506784",
            "gridwidth": 2,
            "linecolor": "#506784",
            "showbackground": true,
            "ticks": "",
            "zerolinecolor": "#C8D4E3"
           },
           "yaxis": {
            "backgroundcolor": "rgb(17,17,17)",
            "gridcolor": "#506784",
            "gridwidth": 2,
            "linecolor": "#506784",
            "showbackground": true,
            "ticks": "",
            "zerolinecolor": "#C8D4E3"
           },
           "zaxis": {
            "backgroundcolor": "rgb(17,17,17)",
            "gridcolor": "#506784",
            "gridwidth": 2,
            "linecolor": "#506784",
            "showbackground": true,
            "ticks": "",
            "zerolinecolor": "#C8D4E3"
           }
          },
          "shapedefaults": {
           "line": {
            "color": "#f2f5fa"
           }
          },
          "sliderdefaults": {
           "bgcolor": "#C8D4E3",
           "bordercolor": "rgb(17,17,17)",
           "borderwidth": 1,
           "tickwidth": 0
          },
          "ternary": {
           "aaxis": {
            "gridcolor": "#506784",
            "linecolor": "#506784",
            "ticks": ""
           },
           "baxis": {
            "gridcolor": "#506784",
            "linecolor": "#506784",
            "ticks": ""
           },
           "bgcolor": "rgb(17,17,17)",
           "caxis": {
            "gridcolor": "#506784",
            "linecolor": "#506784",
            "ticks": ""
           }
          },
          "title": {
           "x": 0.05
          },
          "updatemenudefaults": {
           "bgcolor": "#506784",
           "borderwidth": 0
          },
          "xaxis": {
           "automargin": true,
           "gridcolor": "#283442",
           "linecolor": "#506784",
           "ticks": "",
           "title": {
            "standoff": 15
           },
           "zerolinecolor": "#283442",
           "zerolinewidth": 2
          },
          "yaxis": {
           "automargin": true,
           "gridcolor": "#283442",
           "linecolor": "#506784",
           "ticks": "",
           "title": {
            "standoff": 15
           },
           "zerolinecolor": "#283442",
           "zerolinewidth": 2
          }
         }
        },
        "title": {
         "text": "Mensajes con ella ❤️ a lo largo del tiempo",
         "x": 0.5,
         "xanchor": "center",
         "y": 0.96
        },
        "xaxis": {
         "anchor": "y",
         "domain": [
          0,
          1
         ],
         "nticks": 35,
         "tickangle": 45,
         "title": {
          "text": "Fecha"
         }
        },
        "yaxis": {
         "anchor": "x",
         "domain": [
          0,
          1
         ],
         "title": {
          "text": "# Mensajes"
         }
        }
       }
      }
     },
     "metadata": {},
     "output_type": "display_data"
    }
   ],
   "source": [
    "# Crear una columna de 1 para realizar el conteo de mensajes\n",
    "df['# Mensajes por día'] = 1\n",
    "\n",
    "# Agrupar por fecha y sumar solo la columna numérica\n",
    "date_df = df.groupby('Fecha')['# Mensajes por día'].sum().reset_index()\n",
    "\n",
    "# Plotear la cantidad de mensajes respecto del tiempo\n",
    "fig = px.line(date_df, x='Fecha', y='# Mensajes por día', color_discrete_sequence=['salmon'], template='plotly_dark')\n",
    "\n",
    "# Ajustar el gráfico\n",
    "fig.update_layout(\n",
    "    title={'text': 'Mensajes con ella ❤️ a lo largo del tiempo', 'y':0.96, 'x':0.5, 'xanchor': 'center'},\n",
    "    font=dict(size=17)\n",
    ")\n",
    "fig.update_xaxes(title_text='Fecha', tickangle=45, nticks=35)\n",
    "fig.update_yaxes(title_text='# Mensajes')\n",
    "fig.show()"
   ]
  },
  {
   "cell_type": "markdown",
   "metadata": {
    "id": "_siO-ghIOInr"
   },
   "source": [
    "#### Word Cloud de palabras más usadas"
   ]
  },
  {
   "cell_type": "code",
   "execution_count": null,
   "metadata": {
    "colab": {
     "base_uri": "https://localhost:8080/",
     "height": 817
    },
    "id": "y7-gSL_eFWYm",
    "outputId": "c19a0b9c-835e-46ef-9476-4a967314ca68"
   },
   "outputs": [
    {
     "data": {
      "image/jpeg": "[encoded data removed]",
      "image/png": "[encoded data removed]",
      "text/plain": [
       "<PIL.Image.Image image mode=RGB size=1080x1080>"
      ]
     },
     "execution_count": 49,
     "metadata": {},
     "output_type": "execute_result"
    }
   ],
   "source": [
    "# Crear un string que contendrá todas las palabras\n",
    "total_palabras = ' '\n",
    "stopwords = STOPWORDS.update(['que', 'qué', 'con', 'de', 'te', 'en', 'la', 'lo', 'le', 'el', 'las', 'los', 'les', 'por', 'es',\n",
    "                              'son', 'se', 'para', 'un', 'una', 'chicos', 'su', 'si', 'chic','nos', 'ya', 'hay', 'esta',\n",
    "                              'pero', 'del', 'mas', 'más', 'eso', 'este', 'como', 'así', 'todo', 'https','Multimedia','omitido',\n",
    "                              'y', 'mi', 'o', 'q', 'yo', 'al'])\n",
    "\n",
    "mask = np.array(Image.open('Resources/heart.jpg'))\n",
    "\n",
    "# Obtener y acumular todas las palabras de cada mensaje\n",
    "for mensaje in mensajes_df['Mensaje'].values:\n",
    "    palabras = str(mensaje).lower().split() # Obtener las palabras de cada línea del txt\n",
    "    for palabra in palabras:\n",
    "        total_palabras = total_palabras + palabra + ' ' # Acumular todas las palabras\n",
    "\n",
    "wordcloud = WordCloud(width = 800, height = 800, background_color ='black', stopwords = stopwords,\n",
    "                      max_words=100, min_font_size = 5,\n",
    "                      mask = mask, colormap='OrRd',).generate(total_palabras)\n",
    "\n",
    "# Plotear la nube de palabras más usadas\n",
    "wordcloud.to_image()"
   ]
  }
 ],
 "metadata": {
  "accelerator": "GPU",
  "colab": {
   "machine_shape": "hm",
   "provenance": []
  },
  "kernelspec": {
   "display_name": "Python 3",
   "language": "python",
   "name": "python3"
  },
  "language_info": {
   "codemirror_mode": {
    "name": "ipython",
    "version": 3
   },
   "file_extension": ".py",
   "mimetype": "text/x-python",
   "name": "python",
   "nbconvert_exporter": "python",
   "pygments_lexer": "ipython3",
   "version": "3.7.4"
  }
 },
 "nbformat": 4,
 "nbformat_minor": 1
}
